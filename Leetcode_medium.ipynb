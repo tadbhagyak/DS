{
  "nbformat": 4,
  "nbformat_minor": 0,
  "metadata": {
    "colab": {
      "provenance": [],
      "collapsed_sections": [
        "a3fFPy9cwO7e",
        "U6-pqETQGfxq",
        "nQyX7PS7ZxQE",
        "Em6i_9wSiaA3",
        "DpkUPYM9PuNr",
        "RZl0k-LfxDhr"
      ],
      "authorship_tag": "ABX9TyObuYs2SXx+47Iu6YjzFKFf",
      "include_colab_link": true
    },
    "kernelspec": {
      "name": "python3",
      "display_name": "Python 3"
    },
    "language_info": {
      "name": "python"
    }
  },
  "cells": [
    {
      "cell_type": "markdown",
      "metadata": {
        "id": "view-in-github",
        "colab_type": "text"
      },
      "source": [
        "<a href=\"https://colab.research.google.com/github/tadbhagyak/DS/blob/main/Leetcode_medium.ipynb\" target=\"_parent\"><img src=\"https://colab.research.google.com/assets/colab-badge.svg\" alt=\"Open In Colab\"/></a>"
      ]
    },
    {
      "cell_type": "code",
      "execution_count": null,
      "metadata": {
        "id": "2E1FKyUFBcYQ"
      },
      "outputs": [],
      "source": [
        "import pandas as pd\n",
        "import numpy as np\n",
        "import collections"
      ]
    },
    {
      "cell_type": "markdown",
      "source": [
        "# Combination Sum\n",
        "\n",
        "### Given an array of distinct integers candidates and a target integer target, return a list of all unique combinations of candidates where the chosen numbers sum to target. You may return the combinations in any order. The same number may be chosen from candidates an unlimited number of times. Two combinations are unique if the  frequencyof at least one of the chosen numbers is different.\n",
        "\n",
        "The test cases are generated such that the number of unique combinations that sum up to target is less than 150 combinations for the given input.\n",
        "\n",
        " "
      ],
      "metadata": {
        "id": "Nh8CdfoEtgAh"
      }
    },
    {
      "cell_type": "code",
      "source": [
        "def rec(candidates, target, path, ret):\n",
        "  \n",
        "  # if target is 0 -> return\n",
        "  if target < 0:\n",
        "    return\n",
        "\n",
        "  if target ==0:\n",
        "    ret.append(path)\n",
        "    return\n",
        "\n",
        "  for i in range(len(candidates)):\n",
        "    rem = target - candidates[i]\n",
        "    rec(candidates[i:], rem, path + [candidates[i]], ret)\n",
        "\n",
        "\n",
        "def combinationSum(candidates, target):\n",
        "    # list of candidates -> set of unique numbers\n",
        "    # loop over every number\n",
        "    # for i, num in enumerate(set_nums):\n",
        "    ret = []\n",
        "    rec(candidates, target, [], ret)\n",
        "    return ret\n",
        "\n",
        "candidates = [2,3,5]\n",
        "target = 8\n",
        "combinationSum(candidates, target)\n",
        "\n",
        "\n",
        "\n",
        "\n",
        "def combinationSum(candidates, target):\n",
        "\n",
        "  stck_nums = []\n",
        "  path = []\n",
        "\n",
        "  for i, num in enumerate(candidates):\n",
        "    stck_nums.append(num)\n",
        "\n",
        "    while stck_nums:\n",
        "\n",
        "      val = stck_nums.pop()\n",
        "      rem = target - val\n",
        "\n",
        "      if rem == 0:\n",
        "         \n",
        "\n",
        "      if not rem:\n",
        "        stck_nums.append(rem)\n",
        "      \n",
        "      stck_nums"
      ],
      "metadata": {
        "colab": {
          "base_uri": "https://localhost:8080/"
        },
        "id": "hN--cn3BtfW-",
        "outputId": "a8991dcb-fad6-432e-dadc-f7a329be82e8"
      },
      "execution_count": 46,
      "outputs": [
        {
          "output_type": "execute_result",
          "data": {
            "text/plain": [
              "[[2, 2, 2, 2], [2, 3, 3], [3, 5]]"
            ]
          },
          "metadata": {},
          "execution_count": 46
        }
      ]
    },
    {
      "cell_type": "markdown",
      "source": [
        "# 129. Sum Root to Leaf Numbers\n",
        "\n",
        "### You are given the root of a binary tree containing digits from 0 to 9 only. Each root-to-leaf path in the tree represents a number. For example, the root-to-leaf path 1 -> 2 -> 3 represents the number 123. Return the total sum of all root-to-leaf numbers. Test cases are generated so that the answer will fit in a 32-bit integer. A leaf node is a node with no children."
      ],
      "metadata": {
        "id": "8xhrHBdRNf2O"
      }
    },
    {
      "cell_type": "code",
      "source": [
        "# Definition for a binary tree node.\n",
        "class TreeNode:\n",
        "    def __init__(self, val=0, left=None, right=None):\n",
        "        self.val = val\n",
        "        self.left = left\n",
        "        self.right = right\n",
        "\n",
        "\n",
        "def sumNumbers(curr):\n",
        "  # To find the sum, we need to find all the root to leaf paths\n",
        "  # eg. tree:     1\n",
        "  #            2    3\n",
        "  #          4   5 6  7\n",
        "  # 1->2->4\n",
        "  # 1->2->5\n",
        "  # 1->3->6\n",
        "  # 1->3->7\n",
        "  # go to root, if left exists, add to list, if right exists add to list, if left and right is Nonde -> pop \n",
        "  # DFS with a stack\n",
        "  q = []\n",
        "  q.append(curr)\n",
        "  sum = 0\n",
        "  indisum = []\n",
        "\n",
        "  while q:\n",
        "    node = q.pop()\n",
        "\n",
        "    if not node.left and not node.right:\n",
        "      indisum.append(node.val)  # storing sum of each path\n",
        "      sum += node.val\n",
        "\n",
        "    # multiply each subsequent level by 10\n",
        "    if node.left:\n",
        "      node.left.val += 10*node.val \n",
        "      q.append(node.left)\n",
        "    \n",
        "    if node.right:\n",
        "      node.right.val += 10*node.val\n",
        "      q.append(node.right)\n",
        "\n",
        "  return sum, indisum\n",
        "\n",
        "## Example\n",
        "rootnode = TreeNode(1)\n",
        "rootnode.left = TreeNode(2)\n",
        "rootnode.right = TreeNode(3)\n",
        "rootnode.left.left = TreeNode(4)\n",
        "rootnode.left.right = TreeNode(5)\n",
        "rootnode.right.left = TreeNode(6)\n",
        "rootnode.right.right = TreeNode(7)\n",
        "sumNumbers(rootnode)"
      ],
      "metadata": {
        "colab": {
          "base_uri": "https://localhost:8080/"
        },
        "id": "_RA6mBEENfHn",
        "outputId": "545b5ee6-19c0-49d1-ef74-b774b3cb03a0"
      },
      "execution_count": null,
      "outputs": [
        {
          "output_type": "execute_result",
          "data": {
            "text/plain": [
              "(522, [137, 136, 125, 124])"
            ]
          },
          "metadata": {},
          "execution_count": 47
        }
      ]
    },
    {
      "cell_type": "markdown",
      "source": [
        "# 116. Populating Next Right Pointers in Each Node\n",
        "\n",
        "### You are given a perfect binary tree where all leaves are on the same level, and every parent has two children. The binary tree has the following definition:\\\n",
        "struct Node {\\\n",
        "  int val;\\\n",
        "  Node *left;\\\n",
        "  Node *right;\\\n",
        "  Node *next;\\\n",
        "} \\\n",
        "Populate each next pointer to point to its next right node. If there is no next right node, the next pointer should be set to NULL.\n",
        "\n",
        "Initially, all next pointers are set to NULL.\n",
        "\n",
        " "
      ],
      "metadata": {
        "id": "THlWgh5dRw-v"
      }
    },
    {
      "cell_type": "code",
      "source": [
        "# Level order traversal -> breadth first search modeified to assign next nodes\n",
        "\n",
        "class Node:\n",
        "    def __init__(self, val=0, left=None, right=None):\n",
        "        self.val = val\n",
        "        self.left = left\n",
        "        self.right = right\n",
        "        self.next = 0\n",
        "\n",
        "\n",
        "def levelOrder(root):\n",
        "    curr = root\n",
        "    queue_sol = []\n",
        "    queue_sol.append(curr)\n",
        "\n",
        "    # BFS\n",
        "    while queue_sol:\n",
        "        curr_vals = [] # track elements at the same level\n",
        "        size = len(queue_sol) # current length -> elements added at each previous iteration\n",
        "\n",
        "        for i in range(size):\n",
        "          new_el = queue_sol.pop(0)\n",
        "\n",
        "          if new_el:\n",
        "            curr_vals.append(new_el)    # storing elements at the same level in a queue\n",
        "\n",
        "          # add dependents if they exist\n",
        "          if new_el.left:\n",
        "            queue_sol.append(new_el.left)\n",
        " \n",
        "          if new_el.right:  \n",
        "            queue_sol.append(new_el.right)\n",
        "\n",
        "        # assign next values to first N-1 elements, last one is NULL\n",
        "        for i in range(len(curr_vals)-1):\n",
        "          curr_vals[i].next = curr_vals[i+1]\n",
        "        curr_vals[-1].next = None\n",
        "\n",
        "        # Check if worked\n",
        "        for i in range(len(curr_vals)):\n",
        "          # curr.next.val is Nonetype for last val -> throws error\n",
        "          if curr_vals[i].next:\n",
        "            print(f\"current item:{curr_vals[i].val}, next : {curr_vals[i].next.val}\")\n",
        "          else:\n",
        "            print(f\"current item:{curr_vals[i].val}, next : #\")\n",
        "\n",
        "          \n",
        "\n",
        "# test case\n",
        "root = Node(1)\n",
        "root.left = Node(2)\n",
        "root.right = Node(3)\n",
        "root.left.left = Node(4)\n",
        "root.left.right = Node(5)\n",
        "root.right.left = Node(6)\n",
        "root.right.right = Node(7)\n",
        "\n",
        "levelOrder(root)"
      ],
      "metadata": {
        "colab": {
          "base_uri": "https://localhost:8080/"
        },
        "id": "s3z4Bapi28QG",
        "outputId": "11bc6ae3-7ad0-4a1d-a3d8-ac18e17c8b85"
      },
      "execution_count": null,
      "outputs": [
        {
          "output_type": "stream",
          "name": "stdout",
          "text": [
            "current item:1, next : #\n",
            "current item:2, next : 3\n",
            "current item:3, next : #\n",
            "current item:4, next : 5\n",
            "current item:5, next : 6\n",
            "current item:6, next : 7\n",
            "current item:7, next : #\n"
          ]
        }
      ]
    },
    {
      "cell_type": "markdown",
      "source": [
        "# 316 : Remove duplicate letters \n",
        " \n",
        "### Given a string s, remove duplicate letters so that every letter appears once and only once. You must make sure your result is  the smallest in lexicographical order among all possible results."
      ],
      "metadata": {
        "id": "a3fFPy9cwO7e"
      }
    },
    {
      "cell_type": "code",
      "source": [
        "def removeDuplicateLetters(s):\n",
        "\n",
        "  # Find where chars are located:\n",
        "  pos_nums = {}\n",
        "  for i in range(len(s)):\n",
        "    pos_nums[s[i]] = i\n",
        "    \n",
        "  lexi= []\n",
        "  # Traverse the character list -> outer loop over main string\n",
        "  for i in range(len(s)):\n",
        "    if s[i] not in set(lexi): # Check for uniqueness of the char\n",
        "      for j in reversed(lexi): # loop over the substring -> compare against present char\n",
        "        if s[i] < j:\n",
        "          # pop if the char occurs again, break out of the loop if it doesn't\n",
        "          if i < pos_nums[j]:\n",
        "            lexi.pop()\n",
        "          else: \n",
        "            break\n",
        "\n",
        "      lexi.append(s[i])    \n",
        "\n",
        "  return \"\".join(lexi)\n",
        "\n",
        "s = \"cbacdcbc\"\n",
        "removeDuplicateLetters(s)"
      ],
      "metadata": {
        "colab": {
          "base_uri": "https://localhost:8080/",
          "height": 36
        },
        "id": "nwoIwLWqwMsg",
        "outputId": "a2129948-2cb5-4491-83f7-508f8a810842"
      },
      "execution_count": null,
      "outputs": [
        {
          "output_type": "execute_result",
          "data": {
            "text/plain": [
              "'acdb'"
            ],
            "application/vnd.google.colaboratory.intrinsic+json": {
              "type": "string"
            }
          },
          "metadata": {},
          "execution_count": 121
        }
      ]
    },
    {
      "cell_type": "code",
      "source": [],
      "metadata": {
        "id": "pzStGWlcXehW"
      },
      "execution_count": null,
      "outputs": []
    },
    {
      "cell_type": "markdown",
      "source": [
        "#128. Longest Consecutive Sequence\n",
        "\n",
        "### Given an unsorted array of integers nums, return the length of the longest consecutive elements sequence. You must write an algorithm that runs in O(n) time."
      ],
      "metadata": {
        "id": "U6-pqETQGfxq"
      }
    },
    {
      "cell_type": "code",
      "source": [
        "def longestConsecutive(nums):\n",
        "\n",
        "    # return 0 for empty array\n",
        "    if not nums:\n",
        "      return 0\n",
        "\n",
        "    # Find the smallest unique list of numbers and sort it\n",
        "    subseq = sorted(set(nums))\n",
        "  \n",
        "    # for single values, return 1\n",
        "    if len(subseq) == 1:\n",
        "      return 1\n",
        "\n",
        "    # Traverse the list -> keep track of start and end\n",
        "    istart = 0\n",
        "    iend = istart\n",
        "    len_seq = istart - iend\n",
        "    # if difference between subsequent values in not 1 -> move down\n",
        "    for i in range(len(subseq) - 1):\n",
        "        # compute the difference between successive values\n",
        "        diff = subseq[i+1] - subseq[i] \n",
        "        # reset istart and iend if not continous\n",
        "        if diff != 1:\n",
        "            istart=i\n",
        "            iend = i\n",
        "        # move the ending if sequence\n",
        "        else:\n",
        "            iend+=1\n",
        "        # keep track of current max sequence length\n",
        "        len_seq = max(len_seq,iend - istart + 1)\n",
        "\n",
        "    return len_seq \n",
        "\n",
        "nums = [0,3,7,2,5,8,4,6,0,1]\n",
        "longestConsecutive(nums)"
      ],
      "metadata": {
        "colab": {
          "base_uri": "https://localhost:8080/"
        },
        "id": "H6yT59QRGfWq",
        "outputId": "b73ba47e-13c9-49b8-c42e-278778a6ec1e"
      },
      "execution_count": null,
      "outputs": [
        {
          "output_type": "stream",
          "name": "stdout",
          "text": [
            "[0, 1, 2, 3, 4, 5, 6, 7, 8]\n",
            "0 1 1 0 1 2\n",
            "1 2 1 0 2 3\n",
            "2 3 1 0 3 4\n",
            "3 4 1 0 4 5\n",
            "4 5 1 0 5 6\n",
            "5 6 1 0 6 7\n",
            "6 7 1 0 7 8\n",
            "7 8 1 0 8 9\n"
          ]
        },
        {
          "output_type": "execute_result",
          "data": {
            "text/plain": [
              "9"
            ]
          },
          "metadata": {},
          "execution_count": 18
        }
      ]
    },
    {
      "cell_type": "code",
      "source": [
        "def longestConsecutive2(nums):\n",
        "\n",
        "    # return 0 for empty array\n",
        "    if not nums:\n",
        "      return 0\n",
        "\n",
        "    # Find the smallest unique list of numbers and sort it\n",
        "    subseq = sorted(set(nums))\n",
        "\n",
        "    # for single values, return 1\n",
        "    if len(subseq) == 1:\n",
        "      return 1\n",
        "\n",
        "    len_seq, max_len = 1, 1\n",
        "    # Traverse the list -> keep track of start and end\n",
        "    for num1, num2 in zip(subseq[:-1],subseq[1:]):\n",
        "      diff = num2 - num1 - 1 \n",
        "      if diff:\n",
        "        len_seq =1\n",
        "      else:\n",
        "        len_seq += 1\n",
        "      max_len = max(len_seq, max_len)\n",
        "\n",
        "    return max_len\n",
        "\n",
        "nums = [100,4,200,1,3,2]\n",
        "longestConsecutive2(nums)"
      ],
      "metadata": {
        "colab": {
          "base_uri": "https://localhost:8080/"
        },
        "id": "hZluqEzVKCJs",
        "outputId": "ae838734-d611-4ba3-f6cd-b6c6fdd6066f"
      },
      "execution_count": null,
      "outputs": [
        {
          "output_type": "execute_result",
          "data": {
            "text/plain": [
              "4"
            ]
          },
          "metadata": {},
          "execution_count": 39
        }
      ]
    },
    {
      "cell_type": "markdown",
      "source": [
        "# 344: Reverse String\n",
        "\n",
        "### Write a function that reverses a string. The input string is given as an array of characters s.You must do this by modifying the input array in-place with O(1) extra memory."
      ],
      "metadata": {
        "id": "nQyX7PS7ZxQE"
      }
    },
    {
      "cell_type": "code",
      "source": [
        "def reversestring(s):\n",
        "  l = len(s)\n",
        "  # return array if empty or singular\n",
        "  if l <= 1:\n",
        "    return s\n",
        "  # go to midpoint and keep swapping\n",
        "  for i in range(l//2):\n",
        "    temp = s[i]\n",
        "    s[i] = s[l-1-i]\n",
        "    s[l-1-i] = temp\n",
        "\n",
        "  return s\n",
        "\n",
        "st = ['h','e','l','l','o','s']\n",
        "print(reversestring(st))"
      ],
      "metadata": {
        "colab": {
          "base_uri": "https://localhost:8080/"
        },
        "id": "x5b69bcHZ8fG",
        "outputId": "90c2491d-6c45-4ae1-aeed-c15e36bd50f1"
      },
      "execution_count": null,
      "outputs": [
        {
          "output_type": "stream",
          "name": "stdout",
          "text": [
            "['s', 'o', 'l', 'l', 'e', 'h']\n"
          ]
        }
      ]
    },
    {
      "cell_type": "markdown",
      "source": [
        "#318 : Maximum Product of word lengths\n",
        "\n",
        "### Given a string array words, return the maximum value of length(word[i]) * length(word[j]) where the two words do not share common letters. If no such two words exist, return 0."
      ],
      "metadata": {
        "id": "Em6i_9wSiaA3"
      }
    },
    {
      "cell_type": "code",
      "source": [
        "def max_product(words):\n",
        "    \"\"\" Compute the maximum product of lengths of distinct component words\"\"\"\n",
        "    cur_max = 0   # current max product\n",
        "    for i in range(len(words)):  # Traversal over words\n",
        "        set_curr = set(words[i]) # unique chars in current word\n",
        "        for j in range(i,len(words)): # looping over subsequet words\n",
        "            set_next = set(words[j])  # unique chars in next word\n",
        "            if set_curr.intersection(set_next) == set(): # if intersection is NULL -> no common letters\n",
        "                new_prod = len(words[i])*len(words[j])  # compute product\n",
        "                if new_prod > cur_max:                  # set new max if needed\n",
        "                    cur_max = new_prod\n",
        "\n",
        "    return cur_max\n",
        "\n",
        "words = [\"abcw\",\"baz\",\"foo\",\"bar\",\"xtfn\",\"abcdef\"]\n",
        "max_product(words)"
      ],
      "metadata": {
        "colab": {
          "base_uri": "https://localhost:8080/"
        },
        "id": "qKXAEZFaiWrY",
        "outputId": "e706c2ec-4ebe-4a6f-f269-73a8c6c6162c"
      },
      "execution_count": null,
      "outputs": [
        {
          "output_type": "execute_result",
          "data": {
            "text/plain": [
              "16"
            ]
          },
          "metadata": {},
          "execution_count": 118
        }
      ]
    },
    {
      "cell_type": "markdown",
      "source": [
        "# Linked Lists"
      ],
      "metadata": {
        "id": "DpkUPYM9PuNr"
      }
    },
    {
      "cell_type": "code",
      "source": [
        "class Node:\n",
        "  \"\"\" Base class for a Node in the linked list datastructure\"\"\"\n",
        "\n",
        "  def __init__(self, val, next=None):\n",
        "    \"\"\" Instantiate node with a None pointer and a value\"\"\"\n",
        "    self._val = val\n",
        "    self._next = next\n",
        "\n",
        "  def val(self):\n",
        "    return self._val\n",
        "\n",
        "  def nextNode(self):\n",
        "    return self._next"
      ],
      "metadata": {
        "id": "2-QGfzWHPzGc"
      },
      "execution_count": null,
      "outputs": []
    },
    {
      "cell_type": "code",
      "source": [
        "class LinkList:\n",
        "\n",
        "  def __init__(self):\n",
        "    \"\"\" Instantiate list with a None pointer and a value\"\"\"\n",
        "    self._head = None\n",
        "    self._len = 0\n",
        "\n",
        "  def add_to_list(self, newNode):\n",
        "    \"\"\" Add stuff to the list\"\"\"\n",
        "    temp = self._head\n",
        "    self._head = newNode\n",
        "    newNode._next = temp \n",
        "    self._len +=1\n",
        "\n",
        "  def lenList(self):\n",
        "    \"\"\" Returns length of the list\"\"\"\n",
        "    return self._len\n",
        "\n",
        "  def viewItems(self):\n",
        "    \"\"\" Display contents -> iteration\"\"\"\n",
        "    current = self._head\n",
        "    while current:\n",
        "      print(current._val,\"\\n\")\n",
        "      current = current._next\n",
        "\n",
        "  def searchlist(self, item):\n",
        "    \"\"\" Search for an item in the list\"\"\"\n",
        "    ifFound =  False\n",
        "    count = 0\n",
        "    current = self._head\n",
        "    # Iterate over list till found\n",
        "    while current and not ifFound:\n",
        "      if current._val == item:\n",
        "        ifFound = True\n",
        "      else:\n",
        "        current = current._next\n",
        "        count+=1\n",
        "\n",
        "    # Reset location if value not found \n",
        "    if not ifFound:\n",
        "      count = None\n",
        "    \n",
        "    return ifFound, count\n",
        "\n",
        "  def remove(self, item):\n",
        "      \"\"\" Remove an item from the list\"\"\"\n",
        "      ifFound = False\n",
        "      current = self._head\n",
        "      previous = None\n",
        "\n",
        "      while not ifFound:\n",
        "        # If found -> set flag\n",
        "          if current._val == item:\n",
        "            ifFound = True\n",
        "          else:\n",
        "            previous = current\n",
        "            current = current._next\n",
        "        \n",
        "      if previous == None: # corresponds to first item in the list\n",
        "          self._head = self._head._next\n",
        "      else:\n",
        "          previous._next = current._next \n",
        "\n",
        "\n",
        "  def reverseList(self):    \n",
        "      \"\"\" Reverse the contents of the list \"\"\"\n",
        "      prev = None\n",
        "      current = self._head\n",
        "      nextval = None\n",
        "      c = 0\n",
        "      while current != None:\n",
        "        # point to next element\n",
        "        nextval = current._next\n",
        "        # establish connection with previous\n",
        "        current._next = prev\n",
        "        # shift down the list\n",
        "        prev = current\n",
        "        current = nextval\n",
        "\n",
        "      self._head = prev"
      ],
      "metadata": {
        "id": "yB31HYLBQftF"
      },
      "execution_count": null,
      "outputs": []
    },
    {
      "cell_type": "code",
      "source": [
        "LL = LinkList()\n",
        "\n",
        "# Add bunch of integers to the list\n",
        "for i in range(1,10):\n",
        "  tempNode = Node(i)\n",
        "  LL.add_to_list(tempNode)\n"
      ],
      "metadata": {
        "id": "h9iIPl_KRa8I"
      },
      "execution_count": null,
      "outputs": []
    },
    {
      "cell_type": "code",
      "source": [
        "LL.viewItems() # Display th list\n",
        "LL.reverseList() # Reverse the contents\n",
        "LL.viewItems() # Display\n",
        "LL.remove(4) # Remove an item\n",
        "LL.viewItems()\n",
        "LL.searchlist(4)"
      ],
      "metadata": {
        "colab": {
          "base_uri": "https://localhost:8080/"
        },
        "id": "Bc4Lm-8whw_Z",
        "outputId": "1a2cf1f8-b045-43e6-feb8-0b4a897c1cb7"
      },
      "execution_count": null,
      "outputs": [
        {
          "output_type": "stream",
          "name": "stdout",
          "text": [
            "9 \n",
            "\n",
            "8 \n",
            "\n",
            "7 \n",
            "\n",
            "6 \n",
            "\n",
            "5 \n",
            "\n",
            "4 \n",
            "\n",
            "3 \n",
            "\n",
            "2 \n",
            "\n",
            "1 \n",
            "\n",
            "1 \n",
            "\n",
            "2 \n",
            "\n",
            "3 \n",
            "\n",
            "4 \n",
            "\n",
            "5 \n",
            "\n",
            "6 \n",
            "\n",
            "7 \n",
            "\n",
            "8 \n",
            "\n",
            "9 \n",
            "\n",
            "1 \n",
            "\n",
            "2 \n",
            "\n",
            "3 \n",
            "\n",
            "5 \n",
            "\n",
            "6 \n",
            "\n",
            "7 \n",
            "\n",
            "8 \n",
            "\n",
            "9 \n",
            "\n"
          ]
        },
        {
          "output_type": "execute_result",
          "data": {
            "text/plain": [
              "(False, 0)"
            ]
          },
          "metadata": {},
          "execution_count": 168
        }
      ]
    },
    {
      "cell_type": "code",
      "source": [],
      "metadata": {
        "id": "5sRgQH84wLSj"
      },
      "execution_count": null,
      "outputs": []
    },
    {
      "cell_type": "markdown",
      "source": [
        "# Graphs"
      ],
      "metadata": {
        "id": "RZl0k-LfxDhr"
      }
    },
    {
      "cell_type": "code",
      "source": [
        "# Graph search: \n",
        "# # Breadth search\n",
        "# # Depth search\n",
        "\n",
        "# Given a graph. described in a dictionary form as\n",
        "\"\"\"\n",
        " dict = {\n",
        "    a : [b,c],\n",
        "    c : [e],\n",
        "    b : [d],\n",
        "    d : [f],\n",
        "    e : [],\n",
        "    f : []\n",
        "}\n",
        "\"\"\""
      ],
      "metadata": {
        "colab": {
          "base_uri": "https://localhost:8080/",
          "height": 36
        },
        "id": "vsWEcWDFBlSy",
        "outputId": "65a9a8b9-5fbf-46e8-ce15-37bb0560dcbb"
      },
      "execution_count": null,
      "outputs": [
        {
          "output_type": "execute_result",
          "data": {
            "text/plain": [
              "'\\n dict = {\\n    a : [b,c],\\n    c : [e],\\n    b : [d],\\n    d : [f],\\n    e : [],\\n    f : []\\n}\\n'"
            ],
            "application/vnd.google.colaboratory.intrinsic+json": {
              "type": "string"
            }
          },
          "metadata": {},
          "execution_count": 2
        }
      ]
    },
    {
      "cell_type": "code",
      "source": [
        "from re import A\n",
        "# # depth first uses a stack\n",
        "# # breadth first uses a queue\n",
        "\n",
        "\n",
        "#### Depth first\n",
        "# start at a\n",
        "# print a\n",
        "\n",
        "# push b and c\n",
        "# pop \n",
        "# print b\n",
        "\n",
        "# push d\n",
        "# pop\n",
        "# print d\n",
        "\n",
        "# push f\n",
        "# print f\n",
        "\n",
        "# pop\n",
        "# print c\n",
        "\n",
        "# push e\n",
        "# pop\n",
        "\n",
        "#print e\n",
        "\n",
        "graph = {\n",
        "    'a' : ['c','b'],\n",
        "    'c' : ['e'],\n",
        "    'b' : ['d'],\n",
        "    'd' : ['f'],\n",
        "    'e' : [],\n",
        "    'f' : []\n",
        "}"
      ],
      "metadata": {
        "id": "ISb6u4aACQ7M"
      },
      "execution_count": null,
      "outputs": []
    },
    {
      "cell_type": "code",
      "source": [
        "def depthfirst(graph, source):\n",
        "  stack = [source]\n",
        "  while len(stack) > 0:\n",
        "    current = stack.pop()\n",
        "    print(current)\n",
        "    for i in graph[current]:\n",
        "      stack.append(i)\n"
      ],
      "metadata": {
        "id": "siSnOY6NEND6"
      },
      "execution_count": null,
      "outputs": []
    },
    {
      "cell_type": "code",
      "source": [
        "def depthfirstrec(graph, source):\n",
        "    print(source)\n",
        "    for i in graph[source]:\n",
        "      depthfirstrec(graph, i)\n"
      ],
      "metadata": {
        "id": "SqrrHLShE3ZO"
      },
      "execution_count": null,
      "outputs": []
    },
    {
      "cell_type": "code",
      "source": [
        "def breadthfirst(graph, source):\n",
        "   lst = [source]\n",
        "   \n",
        "   while len(lst) > 0:\n",
        "       current = lst.pop(0)\n",
        "       print(current)\n",
        "\n",
        "       for i in graph[current]:\n",
        "           lst.append(i)\n"
      ],
      "metadata": {
        "id": "u1D2kaYlFm3F"
      },
      "execution_count": null,
      "outputs": []
    },
    {
      "cell_type": "code",
      "source": [
        "############## HAS PATH PROBLEM\n",
        "\n",
        "\n",
        "dir = {'f' : ['g', 'i'],\n",
        "       'g' : ['h'],\n",
        "       'h' : [],\n",
        "       'i' : ['g', 'k'],\n",
        "       'j' : ['i'],\n",
        "       'k' : []\n",
        "       }\n",
        "\n",
        "\n",
        "# to solve the has path, we need to see if we can reach the destination through source \n",
        "# becomes a traversal problem --> let's try depth first\n",
        "\n",
        "def hasPath(graph, src, dst):\n",
        "    current  = src\n",
        "\n",
        "    if (current == dst):\n",
        "       return True\n",
        "\n",
        "    for i in graph[current]:\n",
        "        if hasPath(graph, i, dst) == True:\n",
        "          return True\n",
        "    \n",
        "    return False\n",
        "\n"
      ],
      "metadata": {
        "colab": {
          "base_uri": "https://localhost:8080/",
          "height": 134
        },
        "id": "GxhII97zGhvd",
        "outputId": "f2c9590c-7026-4c48-f0c6-ccd7bd320732"
      },
      "execution_count": null,
      "outputs": [
        {
          "output_type": "error",
          "ename": "SyntaxError",
          "evalue": "ignored",
          "traceback": [
            "\u001b[0;36m  File \u001b[0;32m\"<ipython-input-1-f6222fe9ed1f>\"\u001b[0;36m, line \u001b[0;32m19\u001b[0m\n\u001b[0;31m    if (current == dst) return True\u001b[0m\n\u001b[0m                             ^\u001b[0m\n\u001b[0;31mSyntaxError\u001b[0m\u001b[0;31m:\u001b[0m invalid syntax\n"
          ]
        }
      ]
    },
    {
      "cell_type": "code",
      "source": [],
      "metadata": {
        "id": "ygkq8aB2L-QM"
      },
      "execution_count": null,
      "outputs": []
    }
  ]
}