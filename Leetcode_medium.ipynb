{
  "nbformat": 4,
  "nbformat_minor": 0,
  "metadata": {
    "colab": {
      "provenance": [],
      "collapsed_sections": [
        "4fSSBy-ikpdy",
        "0241Uhd3Pf-j",
        "Nh8CdfoEtgAh",
        "a3fFPy9cwO7e",
        "U6-pqETQGfxq",
        "nQyX7PS7ZxQE",
        "Em6i_9wSiaA3",
        "DpkUPYM9PuNr"
      ],
      "authorship_tag": "ABX9TyMjIo+hBKhoVOmaArdaZMEl",
      "include_colab_link": true
    },
    "kernelspec": {
      "name": "python3",
      "display_name": "Python 3"
    },
    "language_info": {
      "name": "python"
    }
  },
  "cells": [
    {
      "cell_type": "markdown",
      "metadata": {
        "id": "view-in-github",
        "colab_type": "text"
      },
      "source": [
        "<a href=\"https://colab.research.google.com/github/tadbhagyak/DS/blob/main/Leetcode_medium.ipynb\" target=\"_parent\"><img src=\"https://colab.research.google.com/assets/colab-badge.svg\" alt=\"Open In Colab\"/></a>"
      ]
    },
    {
      "cell_type": "code",
      "execution_count": null,
      "metadata": {
        "id": "2E1FKyUFBcYQ"
      },
      "outputs": [],
      "source": [
        "import pandas as pd\n",
        "import numpy as np\n",
        "import collections"
      ]
    },
    {
      "cell_type": "markdown",
      "source": [
        "# Add two numbers Linked list"
      ],
      "metadata": {
        "id": "WM1QIe_RyhpX"
      }
    },
    {
      "cell_type": "code",
      "source": [
        "# Definition for singly-linked list.\n",
        "class ListNode:\n",
        "    def __init__(self, val=0, next=None):\n",
        "        self.val = val\n",
        "        self.next = next\n",
        "\n",
        "def addTwoNumbers(l1, l2):\n",
        "    if not l1 and not l2:  # Both are empty\n",
        "        return l1\n",
        "\n",
        "    if not l1:             # L1 is empty -> L2 is the sum\n",
        "        return l2\n",
        "\n",
        "    if not l2:             # L2 is empty -> L1 is the sum\n",
        "        return l1\n",
        "\n",
        "    curr_l1 = l1\n",
        "    curr_l2 = l2\n",
        "    new_list = []\n",
        "    head = None\n",
        "\n",
        "    c = 0\n",
        "    # Equal sized\n",
        "    while curr_l1 and curr_l2:\n",
        "        sum_lst = curr_l1.val + curr_l2.val + c\n",
        "        c = sum_lst//10\n",
        "        \n",
        "        curr_l1 = curr_l1.next\n",
        "        curr_l2 = curr_l2.next\n",
        "\n",
        "        new_list.append(sum_lst%10)\n",
        "\n",
        "        if not curr_l1 and not curr_l2:\n",
        "          new_list.append(c)\n",
        "\n",
        "    # Fill the rest\n",
        "    while curr_l1:\n",
        "        num = curr_l1.val + c\n",
        "        new_list.append(num%10)\n",
        "        c = num//10\n",
        "        curr_l1 = curr_l1.next\n",
        "\n",
        "        if not curr_l1:\n",
        "          print(c)\n",
        "          new_list.append(c)\n",
        "\n",
        "    # Fill the rest\n",
        "    while curr_l2:\n",
        "        num = curr_l2.val + c\n",
        "        new_list.append(num%10)\n",
        "        c = num//10\n",
        "        curr_l2 = curr_l2.next\n",
        "        if not curr_l2:\n",
        "          new_list.append(c)\n",
        "\n",
        "    head = None\n",
        "    l = len(new_list)\n",
        "    for i in range(l):\n",
        "      node = ListNode(new_list[l-i-1])\n",
        "      node.next = head \n",
        "      head = node\n",
        "\n",
        "    # curr = head\n",
        "    # while curr:\n",
        "    #     print(curr.val)\n",
        "    #     curr = curr.next\n",
        "\n",
        "    return head\n",
        "\n",
        "\n",
        "\n",
        "a = ListNode(9)\n",
        "a.next = ListNode(9)\n",
        "a.next.next = ListNode(9)\n",
        "a.next.next.next = ListNode(9)\n",
        "a.next.next.next.next = ListNode(9)\n",
        "\n",
        "b = ListNode(9)\n",
        "b.next = ListNode(9)\n",
        "b.next.next = ListNode(9)\n",
        "\n",
        "addTwoNumbers(a, b)"
      ],
      "metadata": {
        "colab": {
          "base_uri": "https://localhost:8080/"
        },
        "id": "a3J09TOwyh92",
        "outputId": "7841a4e3-23bc-4c0d-910a-a8e3dceb59e8"
      },
      "execution_count": 14,
      "outputs": [
        {
          "output_type": "stream",
          "name": "stdout",
          "text": [
            "1\n",
            "8\n",
            "9\n",
            "9\n",
            "0\n",
            "0\n",
            "1\n"
          ]
        },
        {
          "output_type": "execute_result",
          "data": {
            "text/plain": [
              "[8, 9, 9, 0, 0, 1]"
            ]
          },
          "metadata": {},
          "execution_count": 14
        }
      ]
    },
    {
      "cell_type": "code",
      "source": [
        "999+913"
      ],
      "metadata": {
        "colab": {
          "base_uri": "https://localhost:8080/"
        },
        "id": "AS7wAoW-zm4z",
        "outputId": "bb12156c-753a-4eae-da3f-b951e76953d2"
      },
      "execution_count": 15,
      "outputs": [
        {
          "output_type": "execute_result",
          "data": {
            "text/plain": [
              "1912"
            ]
          },
          "metadata": {},
          "execution_count": 15
        }
      ]
    },
    {
      "cell_type": "markdown",
      "source": [
        "# 207. Course Schedule\n",
        "\n",
        "There are a total of numCourses courses you have to take, labeled from 0 to numCourses - 1. You are given an array prerequisites where prerequisites[i] = [ai, bi] indicates that you must take course bi first if you want to take course ai.\n",
        "\n",
        "For example, the pair [0, 1], indicates that to take course 0 you have to first take course 1.\n",
        "Return true if you can finish all courses. Otherwise, return false."
      ],
      "metadata": {
        "id": "4fSSBy-ikpdy"
      }
    },
    {
      "cell_type": "code",
      "source": [
        "# Graph problem -> To finish all courses, no cycles. Depth first search\n",
        "def canFinish(numCourses, prerequisites):\n",
        "\n",
        "    graph = {}\n",
        "\n",
        "    for i, pair in enumerate(prerequisites):\n",
        "        _course = pair[0]\n",
        "        _prereq = pair[1]\n",
        "\n",
        "        if _prereq not in graph:\n",
        "            graph[_prereq] = [_course]\n",
        "        else:\n",
        "            graph[_prereq].append(_course)\n",
        "\n",
        "        if _course not in graph:\n",
        "            graph[_course]= []\n",
        "\n",
        "    ## Start at a point and see if you can get to all the courses\n",
        "      # if a has prerequisites, b and c, b -> a, c -> a. Count all the courses through DFS. if courses = numCourses \n",
        "    visited = [0 for _ in range(numCourses)]\n",
        "    stack = []\n",
        "    c = 0\n",
        "\n",
        "    for i in range(numCourses):\n",
        "      if not DFS(graph, i, visited):\n",
        "        return False \n",
        "    return True       \n",
        "\n",
        "\n",
        "def DFS(graph, i, visited):\n",
        "\n",
        "  if visited[i] == -1:\n",
        "    return False\n",
        "  # if it is done visted, then do not visit again\n",
        "  if visited[i] == 1:\n",
        "      return True\n",
        "\n",
        "  visited[i] = -1\n",
        "  for j in graph[i]:\n",
        "    if not DFS(graph, j, visited):\n",
        "      return False\n",
        "\n",
        "  visited[i] = 1\n",
        "  return True\n",
        "\n",
        "\n",
        "\n",
        "numCourses = 2\n",
        "prerequisites =[[1, 0], [0,1]]\n",
        "canFinish(numCourses, prerequisites)"
      ],
      "metadata": {
        "colab": {
          "base_uri": "https://localhost:8080/"
        },
        "id": "Mhia03N2krb0",
        "outputId": "7400ea6f-1448-41e6-967e-1babb9752f0c"
      },
      "execution_count": null,
      "outputs": [
        {
          "output_type": "execute_result",
          "data": {
            "text/plain": [
              "False"
            ]
          },
          "metadata": {},
          "execution_count": 47
        }
      ]
    },
    {
      "cell_type": "markdown",
      "source": [
        "# 199. Binary Tree Right Side View\n",
        "Medium\n",
        "\n",
        "Given the root of a binary tree, imagine yourself standing on the right side of it, return the values of the nodes you can see ordered from top to bottom."
      ],
      "metadata": {
        "id": "1Eo2DlfulxiX"
      }
    },
    {
      "cell_type": "code",
      "source": [
        "# root = [1,2,3,null,5,null,4]\n",
        "\n",
        "# Definition for a binary tree node.\n",
        "class TreeNode:\n",
        "    def __init__(self, val=0, left=None, right=None):\n",
        "        self.val = val\n",
        "        self.left = left\n",
        "        self.right = right\n",
        "\n",
        "def rightSideView(root):\n",
        "  \n",
        "  if not root:\n",
        "    return\n",
        "\n",
        "  sol = []\n",
        "  queue = []\n",
        "  queue.append(root)\n",
        "\n",
        "  # BFS\n",
        "  c = 0\n",
        "  while queue:\n",
        "    c+=1\n",
        "    for i in range(len(queue)):\n",
        "        node = queue.pop(0)\n",
        "        \n",
        "        if node.left:\n",
        "            queue.append(node.left)\n",
        "        if node.right:\n",
        "            queue.append(node.right)\n",
        "\n",
        "    sol.append(node.val)\n",
        "  return sol\n",
        "\n",
        "\n",
        "\n",
        "\n",
        "root = TreeNode(1)\n",
        "root.left = TreeNode(2)\n",
        "root.right = TreeNode(3)\n",
        "root.left.left = TreeNode(8)\n",
        "root.left.right = TreeNode(5)\n",
        "root.left.left = TreeNode(6)\n",
        "root.left.right = TreeNode(4)\n",
        "\n",
        "rightSideView(root)\n"
      ],
      "metadata": {
        "colab": {
          "base_uri": "https://localhost:8080/"
        },
        "id": "8pBW3E_El11D",
        "outputId": "2ee3b4dc-5bf2-461f-f9b8-b721b8dd5280"
      },
      "execution_count": null,
      "outputs": [
        {
          "output_type": "execute_result",
          "data": {
            "text/plain": [
              "[1, 3, 4]"
            ]
          },
          "metadata": {},
          "execution_count": 63
        }
      ]
    },
    {
      "cell_type": "markdown",
      "source": [
        "# House Robber\n",
        "Medium\n",
        "\n",
        "You are a professional robber planning to rob houses along a street. Each house has a certain amount of money stashed, the only constraint stopping you from robbing each of them is that adjacent houses have security systems connected and it will automatically contact the police if two adjacent houses were broken into on the same night.\n",
        "\n",
        "Given an integer array nums representing the amount of money of each house, return the maximum amount of money you can rob tonight without alerting the police."
      ],
      "metadata": {
        "id": "2bCFcj4zAxt4"
      }
    },
    {
      "cell_type": "code",
      "source": [
        "# 1 -> (3,4,5,n)\n",
        "# 2 -> (4,5,6,n)\n",
        "# [step-2] -> step - > [step+2, n]\n",
        "# memo object has to store sums -> recursive relation = max(present + i-2 , i-1)\n",
        "def DP(nums, i, sum):\n",
        "  if i< 0:\n",
        "    return 0\n",
        "\n",
        "  if i in sum:\n",
        "    return sum[i]\n",
        "  \n",
        "  # Recursive call\n",
        "  res = max(nums[i] + DP(nums,i-2, sum), DP(nums,i-1, sum))\n",
        "  sum[i] = res\n",
        "  return res\n",
        "\n",
        "\n",
        "def rob(nums):\n",
        "\n",
        "  if not num:\n",
        "    return nums\n",
        "\n",
        "  l = len(nums)\n",
        "  sum = {}\n",
        "  sum[0] = 0\n",
        "  sum[1] = nums[0]\n",
        "  for i in range(1,l):\n",
        "    sum[i+1] = max(nums[i] + sum[i-1], sum[i])\n",
        "\n",
        "  return sum[l]\n",
        "\n",
        "\n",
        "rob([0])"
      ],
      "metadata": {
        "colab": {
          "base_uri": "https://localhost:8080/"
        },
        "id": "1ZVJCAhfA1kR",
        "outputId": "aae151bc-ab36-4153-8dad-67795bbc44d0"
      },
      "execution_count": null,
      "outputs": [
        {
          "output_type": "execute_result",
          "data": {
            "text/plain": [
              "0"
            ]
          },
          "metadata": {},
          "execution_count": 34
        }
      ]
    },
    {
      "cell_type": "markdown",
      "source": [
        "# Reverse bits of a given 32 bits unsigned integer."
      ],
      "metadata": {
        "id": "5NbJuEviYsVR"
      }
    },
    {
      "cell_type": "code",
      "source": [
        "# Input: n = 00000010100101000001111010011100\n",
        "# Output: 964176192 (00111001011110000010100101000000)\n",
        "\n",
        "binary = \"11111111111111111111111111111101\"\n",
        "num = int(binary,2)\n",
        "num_rev = 0\n",
        "for i in range(32):\n",
        "  r = num%2\n",
        "  num_rev = num_rev+r*2**(31-i)\n",
        "  num = num//2\n",
        "\n",
        "#print(num_rev)\n",
        "\n",
        "\n",
        "def hammingWeight(n):\n",
        "\n",
        "    if not n:\n",
        "        return n\n",
        "\n",
        "    c = 0\n",
        "    \n",
        "    for i in range(32):\n",
        "        r = n%2\n",
        "        if r:\n",
        "            c+=1\n",
        "        n = n//2\n",
        "\n",
        "    return c\n",
        "\n",
        "b = \"11111111111111111111111111111101\"\n",
        "num = int(b,2)\n",
        "hammingWeight(num)"
      ],
      "metadata": {
        "colab": {
          "base_uri": "https://localhost:8080/"
        },
        "id": "r0nBEl6MYuOA",
        "outputId": "d6228ea3-0905-4444-b9b1-6378079e7acb"
      },
      "execution_count": null,
      "outputs": [
        {
          "output_type": "execute_result",
          "data": {
            "text/plain": [
              "31"
            ]
          },
          "metadata": {},
          "execution_count": 6
        }
      ]
    },
    {
      "cell_type": "markdown",
      "source": [
        "# Surrounded regions\n",
        "\n",
        "Given an m x n matrix board containing 'X' and 'O', capture all regions that are 4-directionally surrounded by 'X'.\n",
        "\n",
        "A region is captured by flipping all 'O's into 'X's in that surrounded region."
      ],
      "metadata": {
        "id": "i8av1j9udy10"
      }
    },
    {
      "cell_type": "code",
      "source": [
        "import numpy as np\n",
        "\n",
        "def dfs(row, col, grid,visited):\n",
        "\n",
        "  idx = (row, col)\n",
        "  # check for visited\n",
        "  if idx in visited:\n",
        "    return 0\n",
        "  \n",
        "  # check for bounds\n",
        "  rowmax, colmax = grid.shape\n",
        "  rowInbounds = (row >= 0) and (row <rowmax)\n",
        "  colInbounds = (col >= 0) and (col <colmax)\n",
        "\n",
        "  if not rowInbounds or not colInbounds:\n",
        "    return 0\n",
        "\n",
        "  # Check for X's\n",
        "  if grid[row,col] != 'O':\n",
        "      return 0\n",
        "  \n",
        "  grid[row,col] = 'S'\n",
        "  \n",
        "  visited.add(idx)\n",
        "  count = 1\n",
        "  count+=dfs(row+1,col,grid,visited)\n",
        "  count+=dfs(row-1,col,grid,visited)\n",
        "  count+=dfs(row,col+1,grid,visited)\n",
        "  count+=dfs(row,col-1,grid,visited)\n",
        "\n",
        "  return count\n",
        "\n",
        "# iterate over the board\n",
        "def exploreboard(board):\n",
        "    \"\"\" Exploration to find O's\"\"\"\n",
        "    if not board: \n",
        "      return board\n",
        "    \n",
        "    # convert list of lists to board\n",
        "    grid = np.asarray(board)\n",
        "    # Iterate\n",
        "    row, col = grid.shape\n",
        "    if row <= 1 and col <= 1:\n",
        "      return board\n",
        "    \n",
        "    visited = set()\n",
        "    # DFS from top and bottom\n",
        "    for r in [0,row-1]:\n",
        "      for c in range(col):\n",
        "        # visited nodes\n",
        "        islands = dfs(r,c,grid,visited)\n",
        "        if islands:\n",
        "          print(islands)\n",
        "\n",
        "    # DFS from right and left\n",
        "    for r in range(row):\n",
        "      for c in [0,col-1]:\n",
        "        islands = dfs(r,c,grid,visited)\n",
        "        if islands:\n",
        "          print(islands)\n",
        "\n",
        "    for r in range(row):\n",
        "      for c in range(col):\n",
        "        if grid[r,c] =='S':\n",
        "          board[r][c] = 'O'\n",
        "        elif grid[r,c] == 'O':\n",
        "          board[r][c] = 'X'\n",
        "          \n",
        "    print(board)\n",
        "\n",
        "\n",
        "# Testcase\n",
        "board = [[\"X\",\"X\",\"X\",\"X\"],[\"X\",\"O\",\"O\",\"X\"],[\"X\",\"X\",\"O\",\"X\"],[\"X\",\"O\",\"X\",\"X\"]]\n",
        "#board = [[\"O\",\"O\",\"O\"],[\"O\",\"O\",\"O\"],[\"O\",\"O\",\"O\"]]\n",
        "#board=[[\"X\",\"O\"],[\"O\",\"X\"]]\n",
        "exploreboard(board)\n",
        " "
      ],
      "metadata": {
        "colab": {
          "base_uri": "https://localhost:8080/"
        },
        "id": "lBUOJ5ONd2kk",
        "outputId": "83b4065d-0e6e-4fca-d6c6-b0e915928c2e"
      },
      "execution_count": null,
      "outputs": [
        {
          "output_type": "stream",
          "name": "stdout",
          "text": [
            "1\n",
            "[['X', 'X', 'X', 'X'], ['X', 'X', 'X', 'X'], ['X', 'X', 'X', 'X'], ['X', 'O', 'X', 'X']]\n"
          ]
        }
      ]
    },
    {
      "cell_type": "markdown",
      "source": [
        "# Number of primes\n",
        "\n",
        "### Given an integer n, return the number of prime numbers that are strictly less than n.\n",
        "\n",
        " \n",
        "\n",
        "Example 1:\n",
        "\n",
        "Input: n = 10\n",
        "Output: 4\n",
        "Explanation: There are 4 prime numbers less than 10, they are 2, 3, 5, 7."
      ],
      "metadata": {
        "id": "0241Uhd3Pf-j"
      }
    },
    {
      "cell_type": "code",
      "source": [
        "from ast import Num\n",
        "def isPrime(start,num):\n",
        "    \"\"\" Checks for primes in the range [1, num/2]\"\"\"\n",
        "    if num < 2:\n",
        "      return False\n",
        "\n",
        "  # Loop till half the number\n",
        "    for i in range(start,num//2+1):\n",
        "      if num%i == 0:\n",
        "        return False\n",
        "\n",
        "    return True\n",
        "\n",
        "def countPrimes(num):\n",
        "    \"\"\" Iterates over numbers in a given range [1, num]\"\"\"\n",
        "    visited = set()\n",
        "\n",
        "    for i in range(1,num):\n",
        "      if isPrime(i):\n",
        "        visited.add(i)\n",
        "  \n",
        "    return len(visited)\n",
        "\n",
        "\n",
        "# on counting from 1 to 10 : 1,2,3,4,5,6,7,8,9\n",
        "#isPrime(4,10) # 1\n",
        "\n",
        "# all multiples of 2 and > sqr of 2\n",
        "from collections import Counter\n",
        "\n",
        "p = 2\n",
        "n = 5\n",
        "\n",
        "# given a number -> generate a asequence of length n+1\n",
        "arr = [True for i in range(n)]\n",
        "\n",
        "while (p*p <= n):\n",
        "\n",
        "  if arr[p] == True:\n",
        "    for i in range(p*p, n, p): # loop from num^2 -> n+1 in steps of multiples of p\n",
        "      arr[i] = False\n",
        "  p+=1\n",
        "\n",
        "h = Counter(arr[2:])\n",
        "print(h[True])"
      ],
      "metadata": {
        "colab": {
          "base_uri": "https://localhost:8080/"
        },
        "id": "Ej7t1jwgPhrp",
        "outputId": "c5fae893-9a95-4c40-d868-fdd8696e0ed9"
      },
      "execution_count": null,
      "outputs": [
        {
          "output_type": "stream",
          "name": "stdout",
          "text": [
            "2\n"
          ]
        }
      ]
    },
    {
      "cell_type": "markdown",
      "source": [
        "# Combination Sum\n",
        "\n",
        "### Given an array of distinct integers candidates and a target integer target, return a list of all unique combinations of candidates where the chosen numbers sum to target. You may return the combinations in any order. The same number may be chosen from candidates an unlimited number of times. Two combinations are unique if the  frequencyof at least one of the chosen numbers is different.\n",
        "\n",
        "The test cases are generated such that the number of unique combinations that sum up to target is less than 150 combinations for the given input.\n",
        "\n",
        " "
      ],
      "metadata": {
        "id": "Nh8CdfoEtgAh"
      }
    },
    {
      "cell_type": "code",
      "source": [
        "def rec(candidates, target, path, ret):\n",
        "  \n",
        "  # if target is 0 -> return\n",
        "  if target < 0:\n",
        "    return\n",
        "\n",
        "  if target ==0:\n",
        "    ret.append(path)\n",
        "    return\n",
        "\n",
        "  for i in range(len(candidates)):\n",
        "    rem = target - candidates[i]\n",
        "    rec(candidates[i:], rem, path + [candidates[i]], ret)\n",
        "\n",
        "\n",
        "def combinationSum(candidates, target):\n",
        "    # list of candidates -> set of unique numbers\n",
        "    # loop over every number\n",
        "    # for i, num in enumerate(set_nums):\n",
        "    ret = []\n",
        "    rec(candidates, target, [], ret)\n",
        "    return ret\n",
        "\n",
        "candidates = [2,3,5]\n",
        "target = 8\n",
        "combinationSum(candidates, target)\n",
        "\n",
        "\n",
        "\n",
        "\n",
        "def combinationSum(candidates, target):\n",
        "\n",
        "  stck_nums = []\n",
        "  path = []\n",
        "\n",
        "  for i, num in enumerate(candidates):\n",
        "    stck_nums.append(num)\n",
        "\n",
        "    while stck_nums:\n",
        "\n",
        "      val = stck_nums.pop()\n",
        "      rem = target - val\n",
        "\n",
        "      if rem == 0:\n",
        "         \n",
        "\n",
        "      if not rem:\n",
        "        stck_nums.append(rem)\n",
        "      \n",
        "      stck_nums"
      ],
      "metadata": {
        "colab": {
          "base_uri": "https://localhost:8080/"
        },
        "id": "hN--cn3BtfW-",
        "outputId": "a8991dcb-fad6-432e-dadc-f7a329be82e8"
      },
      "execution_count": null,
      "outputs": [
        {
          "output_type": "execute_result",
          "data": {
            "text/plain": [
              "[[2, 2, 2, 2], [2, 3, 3], [3, 5]]"
            ]
          },
          "metadata": {},
          "execution_count": 46
        }
      ]
    },
    {
      "cell_type": "markdown",
      "source": [
        "# 129. Sum Root to Leaf Numbers\n",
        "\n",
        "### You are given the root of a binary tree containing digits from 0 to 9 only. Each root-to-leaf path in the tree represents a number. For example, the root-to-leaf path 1 -> 2 -> 3 represents the number 123. Return the total sum of all root-to-leaf numbers. Test cases are generated so that the answer will fit in a 32-bit integer. A leaf node is a node with no children."
      ],
      "metadata": {
        "id": "8xhrHBdRNf2O"
      }
    },
    {
      "cell_type": "code",
      "source": [
        "# Definition for a binary tree node.\n",
        "class TreeNode:\n",
        "    def __init__(self, val=0, left=None, right=None):\n",
        "        self.val = val\n",
        "        self.left = left\n",
        "        self.right = right\n",
        "\n",
        "\n",
        "def sumNumbers(curr):\n",
        "  # To find the sum, we need to find all the root to leaf paths\n",
        "  # eg. tree:     1\n",
        "  #            2    3\n",
        "  #          4   5 6  7\n",
        "  # 1->2->4\n",
        "  # 1->2->5\n",
        "  # 1->3->6\n",
        "  # 1->3->7\n",
        "  # go to root, if left exists, add to list, if right exists add to list, if left and right is Nonde -> pop \n",
        "  # DFS with a stack\n",
        "  q = []\n",
        "  q.append(curr)\n",
        "  sum = 0\n",
        "  indisum = []\n",
        "\n",
        "  while q:\n",
        "    node = q.pop()\n",
        "\n",
        "    if not node.left and not node.right:\n",
        "      indisum.append(node.val)  # storing sum of each path\n",
        "      sum += node.val\n",
        "\n",
        "    # multiply each subsequent level by 10\n",
        "    if node.left:\n",
        "      node.left.val += 10*node.val \n",
        "      q.append(node.left)\n",
        "    \n",
        "    if node.right:\n",
        "      node.right.val += 10*node.val\n",
        "      q.append(node.right)\n",
        "\n",
        "  return sum, indisum\n",
        "\n",
        "## Example\n",
        "rootnode = TreeNode(1)\n",
        "rootnode.left = TreeNode(2)\n",
        "rootnode.right = TreeNode(3)\n",
        "rootnode.left.left = TreeNode(4)\n",
        "rootnode.left.right = TreeNode(5)\n",
        "rootnode.right.left = TreeNode(6)\n",
        "rootnode.right.right = TreeNode(7)\n",
        "sumNumbers(rootnode)"
      ],
      "metadata": {
        "colab": {
          "base_uri": "https://localhost:8080/"
        },
        "id": "_RA6mBEENfHn",
        "outputId": "545b5ee6-19c0-49d1-ef74-b774b3cb03a0"
      },
      "execution_count": null,
      "outputs": [
        {
          "output_type": "execute_result",
          "data": {
            "text/plain": [
              "(522, [137, 136, 125, 124])"
            ]
          },
          "metadata": {},
          "execution_count": 47
        }
      ]
    },
    {
      "cell_type": "markdown",
      "source": [
        "# 116. Populating Next Right Pointers in Each Node\n",
        "\n",
        "### You are given a perfect binary tree where all leaves are on the same level, and every parent has two children. The binary tree has the following definition:\\\n",
        "struct Node {\\\n",
        "  int val;\\\n",
        "  Node *left;\\\n",
        "  Node *right;\\\n",
        "  Node *next;\\\n",
        "} \\\n",
        "Populate each next pointer to point to its next right node. If there is no next right node, the next pointer should be set to NULL.\n",
        "\n",
        "Initially, all next pointers are set to NULL.\n",
        "\n",
        " "
      ],
      "metadata": {
        "id": "THlWgh5dRw-v"
      }
    },
    {
      "cell_type": "code",
      "source": [
        "# Level order traversal -> breadth first search modeified to assign next nodes\n",
        "\n",
        "class Node:\n",
        "    def __init__(self, val=0, left=None, right=None):\n",
        "        self.val = val\n",
        "        self.left = left\n",
        "        self.right = right\n",
        "        self.next = 0\n",
        "\n",
        "\n",
        "def levelOrder(root):\n",
        "    curr = root\n",
        "    queue_sol = []\n",
        "    queue_sol.append(curr)\n",
        "\n",
        "    # BFS\n",
        "    while queue_sol:\n",
        "        curr_vals = [] # track elements at the same level\n",
        "        size = len(queue_sol) # current length -> elements added at each previous iteration\n",
        "\n",
        "        for i in range(size):\n",
        "          new_el = queue_sol.pop(0)\n",
        "\n",
        "          if new_el:\n",
        "            curr_vals.append(new_el)    # storing elements at the same level in a queue\n",
        "\n",
        "          # add dependents if they exist\n",
        "          if new_el.left:\n",
        "            queue_sol.append(new_el.left)\n",
        " \n",
        "          if new_el.right:  \n",
        "            queue_sol.append(new_el.right)\n",
        "\n",
        "        # assign next values to first N-1 elements, last one is NULL\n",
        "        for i in range(len(curr_vals)-1):\n",
        "          curr_vals[i].next = curr_vals[i+1]\n",
        "        curr_vals[-1].next = None\n",
        "\n",
        "        # Check if worked\n",
        "        for i in range(len(curr_vals)):\n",
        "          # curr.next.val is Nonetype for last val -> throws error\n",
        "          if curr_vals[i].next:\n",
        "            print(f\"current item:{curr_vals[i].val}, next : {curr_vals[i].next.val}\")\n",
        "          else:\n",
        "            print(f\"current item:{curr_vals[i].val}, next : #\")\n",
        "\n",
        "          \n",
        "\n",
        "# test case\n",
        "root = Node(1)\n",
        "root.left = Node(2)\n",
        "root.right = Node(3)\n",
        "root.left.left = Node(4)\n",
        "root.left.right = Node(5)\n",
        "root.right.left = Node(6)\n",
        "root.right.right = Node(7)\n",
        "\n",
        "levelOrder(root)"
      ],
      "metadata": {
        "colab": {
          "base_uri": "https://localhost:8080/"
        },
        "id": "s3z4Bapi28QG",
        "outputId": "11bc6ae3-7ad0-4a1d-a3d8-ac18e17c8b85"
      },
      "execution_count": null,
      "outputs": [
        {
          "output_type": "stream",
          "name": "stdout",
          "text": [
            "current item:1, next : #\n",
            "current item:2, next : 3\n",
            "current item:3, next : #\n",
            "current item:4, next : 5\n",
            "current item:5, next : 6\n",
            "current item:6, next : 7\n",
            "current item:7, next : #\n"
          ]
        }
      ]
    },
    {
      "cell_type": "markdown",
      "source": [
        "# 316 : Remove duplicate letters \n",
        " \n",
        "### Given a string s, remove duplicate letters so that every letter appears once and only once. You must make sure your result is  the smallest in lexicographical order among all possible results."
      ],
      "metadata": {
        "id": "a3fFPy9cwO7e"
      }
    },
    {
      "cell_type": "code",
      "source": [
        "def removeDuplicateLetters(s):\n",
        "\n",
        "  # Find where chars are located:\n",
        "  pos_nums = {}\n",
        "  for i in range(len(s)):\n",
        "    pos_nums[s[i]] = i\n",
        "    \n",
        "  lexi= []\n",
        "  # Traverse the character list -> outer loop over main string\n",
        "  for i in range(len(s)):\n",
        "    if s[i] not in set(lexi): # Check for uniqueness of the char\n",
        "      for j in reversed(lexi): # loop over the substring -> compare against present char\n",
        "        if s[i] < j:\n",
        "          # pop if the char occurs again, break out of the loop if it doesn't\n",
        "          if i < pos_nums[j]:\n",
        "            lexi.pop()\n",
        "          else: \n",
        "            break\n",
        "\n",
        "      lexi.append(s[i])    \n",
        "\n",
        "  return \"\".join(lexi)\n",
        "\n",
        "s = \"cbacdcbc\"\n",
        "removeDuplicateLetters(s)"
      ],
      "metadata": {
        "colab": {
          "base_uri": "https://localhost:8080/",
          "height": 36
        },
        "id": "nwoIwLWqwMsg",
        "outputId": "a2129948-2cb5-4491-83f7-508f8a810842"
      },
      "execution_count": null,
      "outputs": [
        {
          "output_type": "execute_result",
          "data": {
            "text/plain": [
              "'acdb'"
            ],
            "application/vnd.google.colaboratory.intrinsic+json": {
              "type": "string"
            }
          },
          "metadata": {},
          "execution_count": 121
        }
      ]
    },
    {
      "cell_type": "code",
      "source": [],
      "metadata": {
        "id": "pzStGWlcXehW"
      },
      "execution_count": null,
      "outputs": []
    },
    {
      "cell_type": "markdown",
      "source": [
        "#128. Longest Consecutive Sequence\n",
        "\n",
        "### Given an unsorted array of integers nums, return the length of the longest consecutive elements sequence. You must write an algorithm that runs in O(n) time."
      ],
      "metadata": {
        "id": "U6-pqETQGfxq"
      }
    },
    {
      "cell_type": "code",
      "source": [
        "def longestConsecutive(nums):\n",
        "\n",
        "    # return 0 for empty array\n",
        "    if not nums:\n",
        "      return 0\n",
        "\n",
        "    # Find the smallest unique list of numbers and sort it\n",
        "    subseq = sorted(set(nums))\n",
        "  \n",
        "    # for single values, return 1\n",
        "    if len(subseq) == 1:\n",
        "      return 1\n",
        "\n",
        "    # Traverse the list -> keep track of start and end\n",
        "    istart = 0\n",
        "    iend = istart\n",
        "    len_seq = istart - iend\n",
        "    # if difference between subsequent values in not 1 -> move down\n",
        "    for i in range(len(subseq) - 1):\n",
        "        # compute the difference between successive values\n",
        "        diff = subseq[i+1] - subseq[i] \n",
        "        # reset istart and iend if not continous\n",
        "        if diff != 1:\n",
        "            istart=i\n",
        "            iend = i\n",
        "        # move the ending if sequence\n",
        "        else:\n",
        "            iend+=1\n",
        "        # keep track of current max sequence length\n",
        "        len_seq = max(len_seq,iend - istart + 1)\n",
        "\n",
        "    return len_seq \n",
        "\n",
        "nums = [0,3,7,2,5,8,4,6,0,1]\n",
        "longestConsecutive(nums)"
      ],
      "metadata": {
        "colab": {
          "base_uri": "https://localhost:8080/"
        },
        "id": "H6yT59QRGfWq",
        "outputId": "b73ba47e-13c9-49b8-c42e-278778a6ec1e"
      },
      "execution_count": null,
      "outputs": [
        {
          "output_type": "stream",
          "name": "stdout",
          "text": [
            "[0, 1, 2, 3, 4, 5, 6, 7, 8]\n",
            "0 1 1 0 1 2\n",
            "1 2 1 0 2 3\n",
            "2 3 1 0 3 4\n",
            "3 4 1 0 4 5\n",
            "4 5 1 0 5 6\n",
            "5 6 1 0 6 7\n",
            "6 7 1 0 7 8\n",
            "7 8 1 0 8 9\n"
          ]
        },
        {
          "output_type": "execute_result",
          "data": {
            "text/plain": [
              "9"
            ]
          },
          "metadata": {},
          "execution_count": 18
        }
      ]
    },
    {
      "cell_type": "code",
      "source": [
        "def longestConsecutive2(nums):\n",
        "\n",
        "    # return 0 for empty array\n",
        "    if not nums:\n",
        "      return 0\n",
        "\n",
        "    # Find the smallest unique list of numbers and sort it\n",
        "    subseq = sorted(set(nums))\n",
        "\n",
        "    # for single values, return 1\n",
        "    if len(subseq) == 1:\n",
        "      return 1\n",
        "\n",
        "    len_seq, max_len = 1, 1\n",
        "    # Traverse the list -> keep track of start and end\n",
        "    for num1, num2 in zip(subseq[:-1],subseq[1:]):\n",
        "      diff = num2 - num1 - 1 \n",
        "      if diff:\n",
        "        len_seq =1\n",
        "      else:\n",
        "        len_seq += 1\n",
        "      max_len = max(len_seq, max_len)\n",
        "\n",
        "    return max_len\n",
        "\n",
        "nums = [100,4,200,1,3,2]\n",
        "longestConsecutive2(nums)"
      ],
      "metadata": {
        "colab": {
          "base_uri": "https://localhost:8080/"
        },
        "id": "hZluqEzVKCJs",
        "outputId": "ae838734-d611-4ba3-f6cd-b6c6fdd6066f"
      },
      "execution_count": null,
      "outputs": [
        {
          "output_type": "execute_result",
          "data": {
            "text/plain": [
              "4"
            ]
          },
          "metadata": {},
          "execution_count": 39
        }
      ]
    },
    {
      "cell_type": "markdown",
      "source": [
        "# 344: Reverse String\n",
        "\n",
        "### Write a function that reverses a string. The input string is given as an array of characters s.You must do this by modifying the input array in-place with O(1) extra memory."
      ],
      "metadata": {
        "id": "nQyX7PS7ZxQE"
      }
    },
    {
      "cell_type": "code",
      "source": [
        "def reversestring(s):\n",
        "  l = len(s)\n",
        "  # return array if empty or singular\n",
        "  if l <= 1:\n",
        "    return s\n",
        "  # go to midpoint and keep swapping\n",
        "  for i in range(l//2):\n",
        "    temp = s[i]\n",
        "    s[i] = s[l-1-i]\n",
        "    s[l-1-i] = temp\n",
        "\n",
        "  return s\n",
        "\n",
        "st = ['h','e','l','l','o','s']\n",
        "print(reversestring(st))"
      ],
      "metadata": {
        "colab": {
          "base_uri": "https://localhost:8080/"
        },
        "id": "x5b69bcHZ8fG",
        "outputId": "90c2491d-6c45-4ae1-aeed-c15e36bd50f1"
      },
      "execution_count": null,
      "outputs": [
        {
          "output_type": "stream",
          "name": "stdout",
          "text": [
            "['s', 'o', 'l', 'l', 'e', 'h']\n"
          ]
        }
      ]
    },
    {
      "cell_type": "markdown",
      "source": [
        "#318 : Maximum Product of word lengths\n",
        "\n",
        "### Given a string array words, return the maximum value of length(word[i]) * length(word[j]) where the two words do not share common letters. If no such two words exist, return 0."
      ],
      "metadata": {
        "id": "Em6i_9wSiaA3"
      }
    },
    {
      "cell_type": "code",
      "source": [
        "def max_product(words):\n",
        "    \"\"\" Compute the maximum product of lengths of distinct component words\"\"\"\n",
        "    cur_max = 0   # current max product\n",
        "    for i in range(len(words)):  # Traversal over words\n",
        "        set_curr = set(words[i]) # unique chars in current word\n",
        "        for j in range(i,len(words)): # looping over subsequet words\n",
        "            set_next = set(words[j])  # unique chars in next word\n",
        "            if set_curr.intersection(set_next) == set(): # if intersection is NULL -> no common letters\n",
        "                new_prod = len(words[i])*len(words[j])  # compute product\n",
        "                if new_prod > cur_max:                  # set new max if needed\n",
        "                    cur_max = new_prod\n",
        "\n",
        "    return cur_max\n",
        "\n",
        "words = [\"abcw\",\"baz\",\"foo\",\"bar\",\"xtfn\",\"abcdef\"]\n",
        "max_product(words)"
      ],
      "metadata": {
        "colab": {
          "base_uri": "https://localhost:8080/"
        },
        "id": "qKXAEZFaiWrY",
        "outputId": "e706c2ec-4ebe-4a6f-f269-73a8c6c6162c"
      },
      "execution_count": null,
      "outputs": [
        {
          "output_type": "execute_result",
          "data": {
            "text/plain": [
              "16"
            ]
          },
          "metadata": {},
          "execution_count": 118
        }
      ]
    },
    {
      "cell_type": "markdown",
      "source": [
        "# Linked Lists"
      ],
      "metadata": {
        "id": "DpkUPYM9PuNr"
      }
    },
    {
      "cell_type": "code",
      "source": [
        "class Node:\n",
        "  \"\"\" Base class for a Node in the linked list datastructure\"\"\"\n",
        "\n",
        "  def __init__(self, val, next=None):\n",
        "    \"\"\" Instantiate node with a None pointer and a value\"\"\"\n",
        "    self._val = val\n",
        "    self._next = next\n",
        "\n",
        "  def val(self):\n",
        "    return self._val\n",
        "\n",
        "  def nextNode(self):\n",
        "    return self._next"
      ],
      "metadata": {
        "id": "2-QGfzWHPzGc"
      },
      "execution_count": null,
      "outputs": []
    },
    {
      "cell_type": "code",
      "source": [
        "class LinkList:\n",
        "\n",
        "  def __init__(self):\n",
        "    \"\"\" Instantiate list with a None pointer and a value\"\"\"\n",
        "    self._head = None\n",
        "    self._len = 0\n",
        "\n",
        "  def add_to_list(self, newNode):\n",
        "    \"\"\" Add stuff to the list\"\"\"\n",
        "    temp = self._head\n",
        "    self._head = newNode\n",
        "    newNode._next = temp \n",
        "    self._len +=1\n",
        "\n",
        "  def lenList(self):\n",
        "    \"\"\" Returns length of the list\"\"\"\n",
        "    return self._len\n",
        "\n",
        "  def viewItems(self):\n",
        "    \"\"\" Display contents -> iteration\"\"\"\n",
        "    current = self._head\n",
        "    while current:\n",
        "      print(current._val,\"\\n\")\n",
        "      current = current._next\n",
        "\n",
        "  def searchlist(self, item):\n",
        "    \"\"\" Search for an item in the list\"\"\"\n",
        "    ifFound =  False\n",
        "    count = 0\n",
        "    current = self._head\n",
        "    # Iterate over list till found\n",
        "    while current and not ifFound:\n",
        "      if current._val == item:\n",
        "        ifFound = True\n",
        "      else:\n",
        "        current = current._next\n",
        "        count+=1\n",
        "\n",
        "    # Reset location if value not found \n",
        "    if not ifFound:\n",
        "      count = None\n",
        "    \n",
        "    return ifFound, count\n",
        "\n",
        "  def remove(self, item):\n",
        "      \"\"\" Remove an item from the list\"\"\"\n",
        "      ifFound = False\n",
        "      current = self._head\n",
        "      previous = None\n",
        "\n",
        "      while not ifFound:\n",
        "        # If found -> set flag\n",
        "          if current._val == item:\n",
        "            ifFound = True\n",
        "          else:\n",
        "            previous = current\n",
        "            current = current._next\n",
        "        \n",
        "      if previous == None: # corresponds to first item in the list\n",
        "          self._head = self._head._next\n",
        "      else:\n",
        "          previous._next = current._next \n",
        "\n",
        "\n",
        "  def reverseList(self):    \n",
        "      \"\"\" Reverse the contents of the list \"\"\"\n",
        "      prev = None\n",
        "      current = self._head\n",
        "      nextval = None\n",
        "      c = 0\n",
        "      while current != None:\n",
        "        # point to next element\n",
        "        nextval = current._next\n",
        "        # establish connection with previous\n",
        "        current._next = prev\n",
        "        # shift down the list\n",
        "        prev = current\n",
        "        current = nextval\n",
        "\n",
        "      self._head = prev"
      ],
      "metadata": {
        "id": "yB31HYLBQftF"
      },
      "execution_count": null,
      "outputs": []
    },
    {
      "cell_type": "code",
      "source": [
        "LL = LinkList()\n",
        "\n",
        "# Add bunch of integers to the list\n",
        "for i in range(1,10):\n",
        "  tempNode = Node(i)\n",
        "  LL.add_to_list(tempNode)\n"
      ],
      "metadata": {
        "id": "h9iIPl_KRa8I"
      },
      "execution_count": null,
      "outputs": []
    },
    {
      "cell_type": "code",
      "source": [
        "LL.viewItems() # Display th list\n",
        "LL.reverseList() # Reverse the contents\n",
        "LL.viewItems() # Display\n",
        "LL.remove(4) # Remove an item\n",
        "LL.viewItems()\n",
        "LL.searchlist(4)"
      ],
      "metadata": {
        "colab": {
          "base_uri": "https://localhost:8080/"
        },
        "id": "Bc4Lm-8whw_Z",
        "outputId": "1a2cf1f8-b045-43e6-feb8-0b4a897c1cb7"
      },
      "execution_count": null,
      "outputs": [
        {
          "output_type": "stream",
          "name": "stdout",
          "text": [
            "9 \n",
            "\n",
            "8 \n",
            "\n",
            "7 \n",
            "\n",
            "6 \n",
            "\n",
            "5 \n",
            "\n",
            "4 \n",
            "\n",
            "3 \n",
            "\n",
            "2 \n",
            "\n",
            "1 \n",
            "\n",
            "1 \n",
            "\n",
            "2 \n",
            "\n",
            "3 \n",
            "\n",
            "4 \n",
            "\n",
            "5 \n",
            "\n",
            "6 \n",
            "\n",
            "7 \n",
            "\n",
            "8 \n",
            "\n",
            "9 \n",
            "\n",
            "1 \n",
            "\n",
            "2 \n",
            "\n",
            "3 \n",
            "\n",
            "5 \n",
            "\n",
            "6 \n",
            "\n",
            "7 \n",
            "\n",
            "8 \n",
            "\n",
            "9 \n",
            "\n"
          ]
        },
        {
          "output_type": "execute_result",
          "data": {
            "text/plain": [
              "(False, 0)"
            ]
          },
          "metadata": {},
          "execution_count": 168
        }
      ]
    }
  ]
}