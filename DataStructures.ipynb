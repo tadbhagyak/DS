{
  "nbformat": 4,
  "nbformat_minor": 0,
  "metadata": {
    "colab": {
      "provenance": [],
      "authorship_tag": "ABX9TyMnPyMub13Bla1H9OCBVdua",
      "include_colab_link": true
    },
    "kernelspec": {
      "name": "python3",
      "display_name": "Python 3"
    },
    "language_info": {
      "name": "python"
    }
  },
  "cells": [
    {
      "cell_type": "markdown",
      "metadata": {
        "id": "view-in-github",
        "colab_type": "text"
      },
      "source": [
        "<a href=\"https://colab.research.google.com/github/tadbhagyak/DS/blob/main/DataStructures.ipynb\" target=\"_parent\"><img src=\"https://colab.research.google.com/assets/colab-badge.svg\" alt=\"Open In Colab\"/></a>"
      ]
    },
    {
      "cell_type": "code",
      "execution_count": null,
      "metadata": {
        "id": "2E1FKyUFBcYQ"
      },
      "outputs": [],
      "source": [
        "import pandas as pd\n",
        "import numpy as np\n",
        "import collections"
      ]
    },
    {
      "cell_type": "markdown",
      "source": [
        "# 116. Populating Next Right Pointers in Each Node\n",
        "\n",
        "###\n",
        "You are given a perfect binary tree where all leaves are on the same level, and every parent has two children. The binary tree has the following definition:\\\n",
        "\n",
        "\n",
        "struct Node {\\\n",
        "  int val;\\\n",
        "  Node *left;\\\n",
        "  Node *right;\\\n",
        "  Node *next;\\\n",
        "} \\\n",
        "Populate each next pointer to point to its next right node. If there is no next right node, the next pointer should be set to NULL.\n",
        "\n",
        "Initially, all next pointers are set to NULL.\n",
        "\n",
        " "
      ],
      "metadata": {
        "id": "THlWgh5dRw-v"
      }
    },
    {
      "cell_type": "code",
      "source": [
        "class Node:\n",
        "    def __init__(self, val: int = 0, left: 'Node' = None, right: 'Node' = None, next: 'Node' = None):\n",
        "        self.val = val\n",
        "        self.left = left\n",
        "        self.right = right\n",
        "        self.next = next\n",
        "\n",
        "class Solution:\n",
        "    def connect(self, root):\n",
        "      curr = root\n",
        "      while(curr):\n",
        "        # connect next pointer to its next right node\n",
        "        cleft = curr.left\n",
        "        cright = curr.right\n",
        "        cleft.right = cright\n",
        "\n",
        "input_ = [1,2,3,4,5,6,7]\n",
        "\n",
        "# Initialize the root node\n",
        "curr = Node(0)\n",
        "head = curr\n",
        "# assignment till middle of the lisr\n",
        "for i in range(len(input_)//2):\n",
        "  curr.val = input_[i]\n",
        "  curr.left = Node(input_[2*i+1]) #left neighbor\n",
        "  curr.right = Node(input_[2*i+2]) # right neighbor\n",
        "\n",
        "  curr.next= Node(input_[])\n",
        "\n",
        "def traverse(curr):\n",
        "  print(curr.val)\n",
        "  while curr:\n",
        "    curr = traverse(curr.left)\n",
        "    curr = traverse(curr.right)\n",
        "\n",
        "print(curr.val, curr.left.val, curr.right.val)"
      ],
      "metadata": {
        "colab": {
          "base_uri": "https://localhost:8080/"
        },
        "id": "a8OC7mb4RwpY",
        "outputId": "b41ead1f-ffaa-487b-edef-cf46bcea9305"
      },
      "execution_count": 18,
      "outputs": [
        {
          "output_type": "stream",
          "name": "stdout",
          "text": [
            "3 6 7\n"
          ]
        }
      ]
    },
    {
      "cell_type": "code",
      "source": [
        "# Level order traversal -> breadth first search\n",
        "\n",
        "class Node:\n",
        "    def __init__(self, val=0, left=None, right=None):\n",
        "        self.val = val\n",
        "        self.left = left\n",
        "        self.right = right\n",
        "        self.next = 0\n",
        "\n",
        "\n",
        "def levelOrder(root):\n",
        "    curr = root\n",
        "    queue_sol = []\n",
        "    queue_sol.append(curr)\n",
        "\n",
        "    while queue_sol:\n",
        "        curr_vals = [] # track elements at the same level\n",
        "        size = len(queue_sol) # current length -> elements added at each previous iteration\n",
        "        for i in range(size):\n",
        "        # loop over each element in the queue:\n",
        "          new_el = queue_sol.pop(0)\n",
        "          # pop the element\n",
        "          # For a non Null element,add stuff\n",
        "          if new_el:\n",
        "            curr_vals.append(new_el.val)\n",
        "          if new_el.left:\n",
        "            queue_sol.append(new_el.left)\n",
        "          if new_el.right:  \n",
        "            queue_sol.append(new_el.right)\n",
        "\n",
        "# Driver Program to test above function\n",
        "root = Node(1)\n",
        "root.left = Node(2)\n",
        "root.right = Node(3)\n",
        "root.left.left = Node(4)\n",
        "root.left.right = Node(5)\n",
        "root.right.left = Node(6)\n",
        "root.right.right = Node(7)\n",
        "\n",
        "levelOrder(root)"
      ],
      "metadata": {
        "colab": {
          "base_uri": "https://localhost:8080/",
          "height": 387
        },
        "id": "B-FBsniWXfvu",
        "outputId": "20068dfe-df37-4c74-a3bb-02311cbccde9"
      },
      "execution_count": 7,
      "outputs": [
        {
          "output_type": "stream",
          "name": "stdout",
          "text": [
            "[1]\n",
            "1 3 4\n",
            "[2, 3]\n"
          ]
        },
        {
          "output_type": "error",
          "ename": "IndexError",
          "evalue": "ignored",
          "traceback": [
            "\u001b[0;31m---------------------------------------------------------------------------\u001b[0m",
            "\u001b[0;31mIndexError\u001b[0m                                Traceback (most recent call last)",
            "\u001b[0;32m<ipython-input-7-01d644f3f97b>\u001b[0m in \u001b[0;36m<cell line: 48>\u001b[0;34m()\u001b[0m\n\u001b[1;32m     46\u001b[0m \u001b[0mroot\u001b[0m\u001b[0;34m.\u001b[0m\u001b[0mright\u001b[0m\u001b[0;34m.\u001b[0m\u001b[0mright\u001b[0m \u001b[0;34m=\u001b[0m \u001b[0mNode\u001b[0m\u001b[0;34m(\u001b[0m\u001b[0;36m7\u001b[0m\u001b[0;34m)\u001b[0m\u001b[0;34m\u001b[0m\u001b[0;34m\u001b[0m\u001b[0m\n\u001b[1;32m     47\u001b[0m \u001b[0;34m\u001b[0m\u001b[0m\n\u001b[0;32m---> 48\u001b[0;31m \u001b[0mlevelOrder\u001b[0m\u001b[0;34m(\u001b[0m\u001b[0mroot\u001b[0m\u001b[0;34m)\u001b[0m\u001b[0;34m\u001b[0m\u001b[0;34m\u001b[0m\u001b[0m\n\u001b[0m",
            "\u001b[0;32m<ipython-input-7-01d644f3f97b>\u001b[0m in \u001b[0;36mlevelOrder\u001b[0;34m(root)\u001b[0m\n\u001b[1;32m     32\u001b[0m \u001b[0;34m\u001b[0m\u001b[0m\n\u001b[1;32m     33\u001b[0m         \u001b[0;32mif\u001b[0m \u001b[0midx\u001b[0m\u001b[0;34m:\u001b[0m\u001b[0;34m\u001b[0m\u001b[0;34m\u001b[0m\u001b[0m\n\u001b[0;32m---> 34\u001b[0;31m             \u001b[0mprint\u001b[0m\u001b[0;34m(\u001b[0m\u001b[0midx\u001b[0m\u001b[0;34m,\u001b[0m \u001b[0mnew_el\u001b[0m\u001b[0;34m.\u001b[0m\u001b[0mval\u001b[0m\u001b[0;34m,\u001b[0m \u001b[0mqueue_sol\u001b[0m\u001b[0;34m[\u001b[0m\u001b[0midx\u001b[0m\u001b[0;34m-\u001b[0m\u001b[0;36m1\u001b[0m\u001b[0;34m]\u001b[0m\u001b[0;34m.\u001b[0m\u001b[0mval\u001b[0m\u001b[0;34m)\u001b[0m\u001b[0;34m\u001b[0m\u001b[0;34m\u001b[0m\u001b[0m\n\u001b[0m\u001b[1;32m     35\u001b[0m \u001b[0;34m\u001b[0m\u001b[0m\n\u001b[1;32m     36\u001b[0m         \u001b[0;32mif\u001b[0m \u001b[0mcurr_vals\u001b[0m\u001b[0;34m:\u001b[0m\u001b[0;34m\u001b[0m\u001b[0;34m\u001b[0m\u001b[0m\n",
            "\u001b[0;31mIndexError\u001b[0m: list index out of range"
          ]
        }
      ]
    },
    {
      "cell_type": "markdown",
      "source": [
        "# 316 : Remove duplicate letters \n",
        " \n",
        "### Given a string s, remove duplicate letters so that every letter appears once and only once. You must make sure your result is  the smallest in lexicographical order among all possible results."
      ],
      "metadata": {
        "id": "a3fFPy9cwO7e"
      }
    },
    {
      "cell_type": "code",
      "source": [
        "def removeDuplicateLetters(s):\n",
        "\n",
        "  # Find where chars are located:\n",
        "  pos_nums = {}\n",
        "  for i in range(len(s)):\n",
        "    pos_nums[s[i]] = i\n",
        "    \n",
        "  lexi= []\n",
        "  # Traverse the character list -> outer loop over main string\n",
        "  for i in range(len(s)):\n",
        "    if s[i] not in set(lexi): # Check for uniqueness of the char\n",
        "      for j in reversed(lexi): # loop over the substring -> compare against present char\n",
        "        if s[i] < j:\n",
        "          # pop if the char occurs again, break out of the loop if it doesn't\n",
        "          if i < pos_nums[j]:\n",
        "            lexi.pop()\n",
        "          else: \n",
        "            break\n",
        "\n",
        "      lexi.append(s[i])    \n",
        "\n",
        "  return \"\".join(lexi)\n",
        "\n",
        "s = \"cbacdcbc\"\n",
        "removeDuplicateLetters(s)"
      ],
      "metadata": {
        "colab": {
          "base_uri": "https://localhost:8080/",
          "height": 36
        },
        "id": "nwoIwLWqwMsg",
        "outputId": "a2129948-2cb5-4491-83f7-508f8a810842"
      },
      "execution_count": null,
      "outputs": [
        {
          "output_type": "execute_result",
          "data": {
            "text/plain": [
              "'acdb'"
            ],
            "application/vnd.google.colaboratory.intrinsic+json": {
              "type": "string"
            }
          },
          "metadata": {},
          "execution_count": 121
        }
      ]
    },
    {
      "cell_type": "code",
      "source": [],
      "metadata": {
        "id": "pzStGWlcXehW"
      },
      "execution_count": null,
      "outputs": []
    },
    {
      "cell_type": "markdown",
      "source": [
        "# 344: Reverse String\n",
        "\n",
        "### Write a function that reverses a string. The input string is given as an array of characters s.You must do this by modifying the input array in-place with O(1) extra memory."
      ],
      "metadata": {
        "id": "nQyX7PS7ZxQE"
      }
    },
    {
      "cell_type": "code",
      "source": [
        "def reversestring(s):\n",
        "  l = len(s)\n",
        "  # return array if empty or singular\n",
        "  if l <= 1:\n",
        "    return s\n",
        "  # go to midpoint and keep swapping\n",
        "  for i in range(l//2):\n",
        "    temp = s[i]\n",
        "    s[i] = s[l-1-i]\n",
        "    s[l-1-i] = temp\n",
        "\n",
        "  return s\n",
        "\n",
        "st = ['h','e','l','l','o','s']\n",
        "print(reversestring(st))"
      ],
      "metadata": {
        "colab": {
          "base_uri": "https://localhost:8080/"
        },
        "id": "x5b69bcHZ8fG",
        "outputId": "90c2491d-6c45-4ae1-aeed-c15e36bd50f1"
      },
      "execution_count": null,
      "outputs": [
        {
          "output_type": "stream",
          "name": "stdout",
          "text": [
            "['s', 'o', 'l', 'l', 'e', 'h']\n"
          ]
        }
      ]
    },
    {
      "cell_type": "markdown",
      "source": [
        "#318 : Maximum Product of word lengths\n",
        "\n",
        "### Given a string array words, return the maximum value of length(word[i]) * length(word[j]) where the two words do not share common letters. If no such two words exist, return 0."
      ],
      "metadata": {
        "id": "Em6i_9wSiaA3"
      }
    },
    {
      "cell_type": "code",
      "source": [
        "def max_product(words):\n",
        "    \"\"\" Compute the maximum product of lengths of distinct component words\"\"\"\n",
        "    cur_max = 0   # current max product\n",
        "    for i in range(len(words)):  # Traversal over words\n",
        "        set_curr = set(words[i]) # unique chars in current word\n",
        "        for j in range(i,len(words)): # looping over subsequet words\n",
        "            set_next = set(words[j])  # unique chars in next word\n",
        "            if set_curr.intersection(set_next) == set(): # if intersection is NULL -> no common letters\n",
        "                new_prod = len(words[i])*len(words[j])  # compute product\n",
        "                if new_prod > cur_max:                  # set new max if needed\n",
        "                    cur_max = new_prod\n",
        "\n",
        "    return cur_max\n",
        "\n",
        "words = [\"abcw\",\"baz\",\"foo\",\"bar\",\"xtfn\",\"abcdef\"]\n",
        "max_product(words)"
      ],
      "metadata": {
        "colab": {
          "base_uri": "https://localhost:8080/"
        },
        "id": "qKXAEZFaiWrY",
        "outputId": "e706c2ec-4ebe-4a6f-f269-73a8c6c6162c"
      },
      "execution_count": null,
      "outputs": [
        {
          "output_type": "execute_result",
          "data": {
            "text/plain": [
              "16"
            ]
          },
          "metadata": {},
          "execution_count": 118
        }
      ]
    },
    {
      "cell_type": "markdown",
      "source": [
        "# Linked Lists"
      ],
      "metadata": {
        "id": "DpkUPYM9PuNr"
      }
    },
    {
      "cell_type": "code",
      "source": [
        "class Node:\n",
        "  \"\"\" Base class for a Node in the linked list datastructure\"\"\"\n",
        "\n",
        "  def __init__(self, val, next=None):\n",
        "    \"\"\" Instantiate node with a None pointer and a value\"\"\"\n",
        "    self._val = val\n",
        "    self._next = next\n",
        "\n",
        "  def val(self):\n",
        "    return self._val\n",
        "\n",
        "  def nextNode(self):\n",
        "    return self._next"
      ],
      "metadata": {
        "id": "2-QGfzWHPzGc"
      },
      "execution_count": null,
      "outputs": []
    },
    {
      "cell_type": "code",
      "source": [
        "class LinkList:\n",
        "\n",
        "  def __init__(self):\n",
        "    \"\"\" Instantiate list with a None pointer and a value\"\"\"\n",
        "    self._head = None\n",
        "    self._len = 0\n",
        "\n",
        "  def add_to_list(self, newNode):\n",
        "    \"\"\" Add stuff to the list\"\"\"\n",
        "    temp = self._head\n",
        "    self._head = newNode\n",
        "    newNode._next = temp \n",
        "    self._len +=1\n",
        "\n",
        "  def lenList(self):\n",
        "    \"\"\" Returns length of the list\"\"\"\n",
        "    return self._len\n",
        "\n",
        "  def viewItems(self):\n",
        "    \"\"\" Display contents -> iteration\"\"\"\n",
        "    current = self._head\n",
        "    while current:\n",
        "      print(current._val,\"\\n\")\n",
        "      current = current._next\n",
        "\n",
        "  def searchlist(self, item):\n",
        "    \"\"\" Search for an item in the list\"\"\"\n",
        "    ifFound =  False\n",
        "    count = 0\n",
        "    current = self._head\n",
        "    # Iterate over list till found\n",
        "    while current and not ifFound:\n",
        "      if current._val == item:\n",
        "        ifFound = True\n",
        "      else:\n",
        "        current = current._next\n",
        "        count+=1\n",
        "\n",
        "    # Reset location if value not found \n",
        "    if not ifFound:\n",
        "      count = None\n",
        "    \n",
        "    return ifFound, count\n",
        "\n",
        "  def remove(self, item):\n",
        "      \"\"\" Remove an item from the list\"\"\"\n",
        "      ifFound = False\n",
        "      current = self._head\n",
        "      previous = None\n",
        "\n",
        "      while not ifFound:\n",
        "        # If found -> set flag\n",
        "          if current._val == item:\n",
        "            ifFound = True\n",
        "          else:\n",
        "            previous = current\n",
        "            current = current._next\n",
        "        \n",
        "      if previous == None: # corresponds to first item in the list\n",
        "          self._head = self._head._next\n",
        "      else:\n",
        "          previous._next = current._next \n",
        "\n",
        "\n",
        "  def reverseList(self):    \n",
        "      \"\"\" Reverse the contents of the list \"\"\"\n",
        "      prev = None\n",
        "      current = self._head\n",
        "      nextval = None\n",
        "      c = 0\n",
        "      while current != None:\n",
        "        # point to next element\n",
        "        nextval = current._next\n",
        "        # establish connection with previous\n",
        "        current._next = prev\n",
        "        # shift down the list\n",
        "        prev = current\n",
        "        current = nextval\n",
        "\n",
        "      self._head = prev"
      ],
      "metadata": {
        "id": "yB31HYLBQftF"
      },
      "execution_count": null,
      "outputs": []
    },
    {
      "cell_type": "code",
      "source": [
        "LL = LinkList()\n",
        "\n",
        "# Add bunch of integers to the list\n",
        "for i in range(1,10):\n",
        "  tempNode = Node(i)\n",
        "  LL.add_to_list(tempNode)\n"
      ],
      "metadata": {
        "id": "h9iIPl_KRa8I"
      },
      "execution_count": null,
      "outputs": []
    },
    {
      "cell_type": "code",
      "source": [
        "LL.viewItems() # Display th list\n",
        "LL.reverseList() # Reverse the contents\n",
        "LL.viewItems() # Display\n",
        "LL.remove(4) # Remove an item\n",
        "LL.viewItems()\n",
        "LL.searchlist(4)"
      ],
      "metadata": {
        "colab": {
          "base_uri": "https://localhost:8080/"
        },
        "id": "Bc4Lm-8whw_Z",
        "outputId": "1a2cf1f8-b045-43e6-feb8-0b4a897c1cb7"
      },
      "execution_count": null,
      "outputs": [
        {
          "output_type": "stream",
          "name": "stdout",
          "text": [
            "9 \n",
            "\n",
            "8 \n",
            "\n",
            "7 \n",
            "\n",
            "6 \n",
            "\n",
            "5 \n",
            "\n",
            "4 \n",
            "\n",
            "3 \n",
            "\n",
            "2 \n",
            "\n",
            "1 \n",
            "\n",
            "1 \n",
            "\n",
            "2 \n",
            "\n",
            "3 \n",
            "\n",
            "4 \n",
            "\n",
            "5 \n",
            "\n",
            "6 \n",
            "\n",
            "7 \n",
            "\n",
            "8 \n",
            "\n",
            "9 \n",
            "\n",
            "1 \n",
            "\n",
            "2 \n",
            "\n",
            "3 \n",
            "\n",
            "5 \n",
            "\n",
            "6 \n",
            "\n",
            "7 \n",
            "\n",
            "8 \n",
            "\n",
            "9 \n",
            "\n"
          ]
        },
        {
          "output_type": "execute_result",
          "data": {
            "text/plain": [
              "(False, 0)"
            ]
          },
          "metadata": {},
          "execution_count": 168
        }
      ]
    },
    {
      "cell_type": "code",
      "source": [],
      "metadata": {
        "id": "5sRgQH84wLSj"
      },
      "execution_count": null,
      "outputs": []
    },
    {
      "cell_type": "markdown",
      "source": [
        "# Graphs"
      ],
      "metadata": {
        "id": "RZl0k-LfxDhr"
      }
    },
    {
      "cell_type": "code",
      "source": [
        "# Graph search: \n",
        "# # Breadth search\n",
        "# # Depth search\n",
        "\n",
        "# Given a graph. described in a dictionary form as\n",
        "\"\"\"\n",
        " dict = {\n",
        "    a : [b,c],\n",
        "    c : [e],\n",
        "    b : [d],\n",
        "    d : [f],\n",
        "    e : [],\n",
        "    f : []\n",
        "}\n",
        "\"\"\""
      ],
      "metadata": {
        "colab": {
          "base_uri": "https://localhost:8080/",
          "height": 36
        },
        "id": "vsWEcWDFBlSy",
        "outputId": "65a9a8b9-5fbf-46e8-ce15-37bb0560dcbb"
      },
      "execution_count": null,
      "outputs": [
        {
          "output_type": "execute_result",
          "data": {
            "text/plain": [
              "'\\n dict = {\\n    a : [b,c],\\n    c : [e],\\n    b : [d],\\n    d : [f],\\n    e : [],\\n    f : []\\n}\\n'"
            ],
            "application/vnd.google.colaboratory.intrinsic+json": {
              "type": "string"
            }
          },
          "metadata": {},
          "execution_count": 2
        }
      ]
    },
    {
      "cell_type": "code",
      "source": [
        "from re import A\n",
        "# # depth first uses a stack\n",
        "# # breadth first uses a queue\n",
        "\n",
        "\n",
        "#### Depth first\n",
        "# start at a\n",
        "# print a\n",
        "\n",
        "# push b and c\n",
        "# pop \n",
        "# print b\n",
        "\n",
        "# push d\n",
        "# pop\n",
        "# print d\n",
        "\n",
        "# push f\n",
        "# print f\n",
        "\n",
        "# pop\n",
        "# print c\n",
        "\n",
        "# push e\n",
        "# pop\n",
        "\n",
        "#print e\n",
        "\n",
        "graph = {\n",
        "    'a' : ['c','b'],\n",
        "    'c' : ['e'],\n",
        "    'b' : ['d'],\n",
        "    'd' : ['f'],\n",
        "    'e' : [],\n",
        "    'f' : []\n",
        "}"
      ],
      "metadata": {
        "id": "ISb6u4aACQ7M"
      },
      "execution_count": null,
      "outputs": []
    },
    {
      "cell_type": "code",
      "source": [
        "def depthfirst(graph, source):\n",
        "  stack = [source]\n",
        "  while len(stack) > 0:\n",
        "    current = stack.pop()\n",
        "    print(current)\n",
        "    for i in graph[current]:\n",
        "      stack.append(i)\n"
      ],
      "metadata": {
        "id": "siSnOY6NEND6"
      },
      "execution_count": null,
      "outputs": []
    },
    {
      "cell_type": "code",
      "source": [
        "def depthfirstrec(graph, source):\n",
        "    print(source)\n",
        "    for i in graph[source]:\n",
        "      depthfirstrec(graph, i)\n"
      ],
      "metadata": {
        "id": "SqrrHLShE3ZO"
      },
      "execution_count": null,
      "outputs": []
    },
    {
      "cell_type": "code",
      "source": [
        "def breadthfirst(graph, source):\n",
        "   lst = [source]\n",
        "   \n",
        "   while len(lst) > 0:\n",
        "       current = lst.pop(0)\n",
        "       print(current)\n",
        "\n",
        "       for i in graph[current]:\n",
        "           lst.append(i)\n"
      ],
      "metadata": {
        "id": "u1D2kaYlFm3F"
      },
      "execution_count": null,
      "outputs": []
    },
    {
      "cell_type": "code",
      "source": [
        "############## HAS PATH PROBLEM\n",
        "\n",
        "\n",
        "dir = {'f' : ['g', 'i'],\n",
        "       'g' : ['h'],\n",
        "       'h' : [],\n",
        "       'i' : ['g', 'k'],\n",
        "       'j' : ['i'],\n",
        "       'k' : []\n",
        "       }\n",
        "\n",
        "\n",
        "# to solve the has path, we need to see if we can reach the destination through source \n",
        "# becomes a traversal problem --> let's try depth first\n",
        "\n",
        "def hasPath(graph, src, dst):\n",
        "    current  = src\n",
        "\n",
        "    if (current == dst):\n",
        "       return True\n",
        "\n",
        "    for i in graph[current]:\n",
        "        if hasPath(graph, i, dst) == True:\n",
        "          return True\n",
        "    \n",
        "    return False\n",
        "\n"
      ],
      "metadata": {
        "colab": {
          "base_uri": "https://localhost:8080/",
          "height": 134
        },
        "id": "GxhII97zGhvd",
        "outputId": "f2c9590c-7026-4c48-f0c6-ccd7bd320732"
      },
      "execution_count": null,
      "outputs": [
        {
          "output_type": "error",
          "ename": "SyntaxError",
          "evalue": "ignored",
          "traceback": [
            "\u001b[0;36m  File \u001b[0;32m\"<ipython-input-1-f6222fe9ed1f>\"\u001b[0;36m, line \u001b[0;32m19\u001b[0m\n\u001b[0;31m    if (current == dst) return True\u001b[0m\n\u001b[0m                             ^\u001b[0m\n\u001b[0;31mSyntaxError\u001b[0m\u001b[0;31m:\u001b[0m invalid syntax\n"
          ]
        }
      ]
    },
    {
      "cell_type": "code",
      "source": [],
      "metadata": {
        "id": "ygkq8aB2L-QM"
      },
      "execution_count": null,
      "outputs": []
    }
  ]
}