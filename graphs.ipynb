{
  "nbformat": 4,
  "nbformat_minor": 0,
  "metadata": {
    "colab": {
      "provenance": [],
      "authorship_tag": "ABX9TyO49tw/PN+9NLIN/zL7lsOX",
      "include_colab_link": true
    },
    "kernelspec": {
      "name": "python3",
      "display_name": "Python 3"
    },
    "language_info": {
      "name": "python"
    }
  },
  "cells": [
    {
      "cell_type": "markdown",
      "metadata": {
        "id": "view-in-github",
        "colab_type": "text"
      },
      "source": [
        "<a href=\"https://colab.research.google.com/github/tadbhagyak/DS/blob/main/graphs.ipynb\" target=\"_parent\"><img src=\"https://colab.research.google.com/assets/colab-badge.svg\" alt=\"Open In Colab\"/></a>"
      ]
    },
    {
      "cell_type": "markdown",
      "source": [
        "\n",
        "#Common DAG algorithms and their implementation in Python"
      ],
      "metadata": {
        "id": "W_g7eUCRcEp2"
      }
    },
    {
      "cell_type": "code",
      "source": [
        "def List2Graph(list_node):\n",
        "  \"\"\" Convert list of lists to adjacent list for DAG\"\"\"\n",
        "  _graph = {}\n",
        "\n",
        "  for i, pair in enumerate(list_node):\n",
        "    v1 = pair[0]\n",
        "    v2 = pair[1]\n",
        "    # Add v1 to graph\n",
        "    if v1 in _graph:\n",
        "      _graph[v1].append(v2)\n",
        "    else:\n",
        "      _graph[v1] = [v2]\n",
        "\n",
        "    # Add v2 to graph\n",
        "    if v2 not in _graph:\n",
        "      _graph[v2] = []\n",
        "\n",
        "  return _graph\n"
      ],
      "metadata": {
        "colab": {
          "base_uri": "https://localhost:8080/"
        },
        "id": "7urSAHaPhCh_",
        "outputId": "2cbd8fc2-96ef-423e-b59b-820201302844"
      },
      "execution_count": 162,
      "outputs": [
        {
          "output_type": "stream",
          "name": "stdout",
          "text": [
            "Generated graph:{1: [2, 3, 5], 2: [6, 7], 6: [], 7: [], 3: [], 5: [8], 8: []}\n"
          ]
        }
      ]
    },
    {
      "cell_type": "code",
      "source": [
        "def dfs(graph, source):\n",
        "  \"\"\" Iterative depth first search \"\"\"\n",
        "  stack = []\n",
        "  stack.append(source)\n",
        "  # run till stack has contents\n",
        "  while stack:\n",
        "    out = stack.pop()\n",
        "    print(f\"current val:{out}\")\n",
        "    nbors = graph[out]\n",
        "    # iterate over every node in the adjacency list\n",
        "    for i in nbors:\n",
        "      stack.append(i)\n",
        "\n",
        "  \n",
        "def dfs_recursive(graph, source):\n",
        "  \"\"\" Recursive depth first search\"\"\"\n",
        "\n",
        "  print(f\"current val:{source}\")\n",
        "  \n",
        "  for i in graph[source]:\n",
        "    dfs_recursive(graph, i)\n",
        "\n",
        "\n",
        "def bfs(graph, source):\n",
        "  \"\"\" Iterative breadth first search\"\"\"\n",
        "  stack = []\n",
        "  stack.append(source)\n",
        "  # run till stack has contents\n",
        "  while stack:\n",
        "    out = stack.pop(0)\n",
        "    print(f\"current val:{out}\")\n",
        "    nbors = graph[out]\n",
        "    # iterate over every node in the adjacency list\n",
        "    for i in nbors:\n",
        "      stack.append(i)"
      ],
      "metadata": {
        "colab": {
          "base_uri": "https://localhost:8080/"
        },
        "id": "3SpAOVbnn3Cp",
        "outputId": "16307ffd-9789-45fe-8757-27730afa58ce"
      },
      "execution_count": 168,
      "outputs": [
        {
          "output_type": "stream",
          "name": "stdout",
          "text": [
            "Generated graph:{1: [2, 3, 5], 2: [6, 7], 6: [], 7: [], 3: [], 5: [8], 8: []}\n",
            "\n",
            "DFS iterative:\n",
            "current val:1\n",
            "current val:5\n",
            "current val:8\n",
            "current val:3\n",
            "current val:2\n",
            "current val:7\n",
            "current val:6\n",
            "\n",
            "DFS recursive:\n",
            "current val:1\n",
            "current val:2\n",
            "current val:6\n",
            "current val:7\n",
            "current val:3\n",
            "current val:5\n",
            "current val:8\n",
            "\n",
            "BFS :\n",
            "current val:1\n",
            "current val:2\n",
            "current val:3\n",
            "current val:5\n",
            "current val:6\n",
            "current val:7\n",
            "current val:8\n"
          ]
        }
      ]
    },
    {
      "cell_type": "code",
      "source": [
        "# Testcase\n",
        "list_ = [(1,2),(2,6),(2,7),(1,3),(1,5),(5,8)]\n",
        "graph_list = List2Graph(list_)\n",
        "print(f\"Generated graph:{graph_list}\")\n",
        "\n",
        "\n",
        "print(f\"\\nDFS iterative:\")\n",
        "dfs(_graph,1)\n",
        "print(f\"\\nDFS recursive:\")\n",
        "dfs_recursive(_graph,1)\n",
        "print(f\"\\nBFS :\")\n",
        "bfs(_graph,1)"
      ],
      "metadata": {
        "id": "upAUZ4-tb8xt"
      },
      "execution_count": null,
      "outputs": []
    },
    {
      "cell_type": "code",
      "source": [
        "def hasPath(graph, src, dst):\n",
        "  \"\"\" Find path between two nodes in DAG using recursive DFS \"\"\"\n",
        "\n",
        "  if src == dst:\n",
        "    return True\n",
        "\n",
        "  for next in graph[src]:\n",
        "    if hasPath(graph, next, dst):\n",
        "      return True\n",
        "\n",
        "  return False\n",
        "\n",
        "def hasPathBFS(graph, src, dst):\n",
        "  \"\"\" Find path between two nodes in DAG using BFS\"\"\"\n",
        "  q = [src]\n",
        "  # run till stack has contents\n",
        "  while q:\n",
        "    out = q.pop(0)\n",
        "    if out == dst:\n",
        "      return True\n",
        "    # iterate over every node in the adjacency list\n",
        "    for i in graph[out]:\n",
        "      q.append(i)\n",
        "\n",
        "  return False"
      ],
      "metadata": {
        "colab": {
          "base_uri": "https://localhost:8080/"
        },
        "id": "nJsGu8AkA0TN",
        "outputId": "d34f4853-0af3-4e05-ed74-c96aeca708be"
      },
      "execution_count": 157,
      "outputs": [
        {
          "output_type": "stream",
          "name": "stdout",
          "text": [
            "Using DFS to find a path: True\n",
            "Using DFS to find a path: True\n"
          ]
        }
      ]
    },
    {
      "cell_type": "code",
      "source": [
        "# Test Case\n",
        "isDFS = hasPath(_graph, 1,8)\n",
        "print(f\"Using DFS to find a path: {isDFS}\")\n",
        "\n",
        "isBFS = hasPathBFS(_graph, 1,8)\n",
        "print(f\"Using BFS to find a path: {isDFS}\")"
      ],
      "metadata": {
        "colab": {
          "base_uri": "https://localhost:8080/",
          "height": 0
        },
        "id": "zTrAVZeDEEz_",
        "outputId": "39f7cd47-a87a-4151-9148-6e53c5b4537f"
      },
      "execution_count": 107,
      "outputs": [
        {
          "output_type": "execute_result",
          "data": {
            "text/plain": [
              "True"
            ]
          },
          "metadata": {},
          "execution_count": 107
        }
      ]
    },
    {
      "cell_type": "markdown",
      "source": [
        "# Undirected graph algorithms"
      ],
      "metadata": {
        "id": "BbZroIwyYZjS"
      }
    },
    {
      "cell_type": "code",
      "source": [
        "def UDGtoList(node_pairs):\n",
        "    \"\"\"\n",
        "    Convert node list to un-directed graph adjacency list\n",
        "    _____________________________________________________\n",
        "    Input: list of lists/tuples containing vertices\n",
        "\n",
        "    Output: graph adjacency list \n",
        "    \"\"\"\n",
        "    adj_list = {}\n",
        "    \n",
        "    for i, lst in enumerate(node_pairs):\n",
        "      v1, v2 = lst\n",
        "      # add each node from the list to the graph\n",
        "      if v1 in adj_list:\n",
        "        adj_list[v1].append(v2)\n",
        "      else:\n",
        "        adj_list[v1] = [v2]  \n",
        "\n",
        "      if v2 in adj_list:\n",
        "        adj_list[v2].append(v1)\n",
        "      else:\n",
        "        adj_list[v2] = [v1]  \n",
        "      \n",
        "    return adj_list\n",
        "\n",
        "\n",
        "## Path in undirected graph\n",
        "def unidirPath(graph, src, dest, visited = set()):\n",
        "    \"\"\"\n",
        "    Check for a path from source to destination in undirected graph\n",
        "\n",
        "    Input: graph(dict), src(node), dest(node), visited(set() containing uniquenodes)\n",
        "    Output: True if a path exists, else False (Bool)\n",
        "    \"\"\"\n",
        "\n",
        "    # prevent infinite recusrions\n",
        "    if src in visited:\n",
        "      return False\n",
        "\n",
        "    if src == dest:\n",
        "      return True\n",
        "\n",
        "    visited.add(src)\n",
        "\n",
        "    for next in graph[src]:\n",
        "      unidirPath(graph, next, dest, visited)\n",
        "\n",
        "    return False\n",
        "\n",
        "\n",
        "# Test case\n",
        "dicts = [['i','j'],['k','i'],['m','k'],['k','l'],['o','n']]\n",
        "adj_list = UDGtoList(dicts)\n",
        "unidirPath(adj_list, 'i', 'n')\n"
      ],
      "metadata": {
        "colab": {
          "base_uri": "https://localhost:8080/"
        },
        "id": "Pxf0fGT9EE70",
        "outputId": "23d91345-3f77-49e5-d4af-7902d8b10b9a"
      },
      "execution_count": 149,
      "outputs": [
        {
          "output_type": "execute_result",
          "data": {
            "text/plain": [
              "False"
            ]
          },
          "metadata": {},
          "execution_count": 149
        }
      ]
    },
    {
      "cell_type": "code",
      "source": [
        "# Connected components\n",
        "\n",
        "def explore(graph, current, visited):\n",
        "  \"\"\" \n",
        "  Performs recursive depth first search on the graph, while accounting for \n",
        "  visited nodes in the graph to prevent infinite loop\n",
        "  ____________________________________________________________________________\n",
        "  Input: graph(dict), current vertex, visited(set of unqiue nodes) \n",
        "\n",
        "  Output: Number of nodes in a connected component of the graph\n",
        "  \"\"\"\n",
        "  # check for presence\n",
        "  if current in visited:\n",
        "    return 0\n",
        "\n",
        "  # unique nodes are added to the set\n",
        "  visited.add(current)\n",
        "  size = 1 # increments size of current dfs \n",
        "\n",
        "  for i in graph[current]:\n",
        "    size += explore(graph, i, visited)\n",
        "\n",
        "  # return length of present trajectory\n",
        "  return size\n",
        "\n",
        "def connectedComponents(graph):\n",
        "  \"\"\"\n",
        "  Computes and returns the max sie of strongly connected components\n",
        "\n",
        "  Input: graph (dict)\n",
        "\n",
        "  Output: count(# of connected comps), max_size()\n",
        "  \"\"\"\n",
        "  # returns number of strongly connceted compnents and the size\n",
        "  visited = set()\n",
        "  max_size = 0\n",
        "  count= 0 \n",
        "  # iterative traversal\n",
        "  for node in graph: \n",
        "    size = explore(graph, node, visited) # dfs\n",
        "    # increment counter for unique connected components\n",
        "    if size:\n",
        "      count+=1\n",
        "    \n",
        "    max_size = max(max_size, size) # max size of CC\n",
        "\n",
        "  return count, max_size\n"
      ],
      "metadata": {
        "id": "LUQ_Lxqr-CrC"
      },
      "execution_count": 143,
      "outputs": []
    },
    {
      "cell_type": "code",
      "source": [
        "graph = {0: [8, 1, 5],\n",
        "         1: [0],\n",
        "         5: [0, 8],\n",
        "         8: [0, 5],\n",
        "         2: [3, 4],\n",
        "         3: [2, 4],\n",
        "         4: [3, 2]}\n",
        "\n",
        "comps, max_size = connectedComponents(graph)"
      ],
      "metadata": {
        "id": "8g1eBBwx6Nf3"
      },
      "execution_count": 145,
      "outputs": []
    }
  ]
}